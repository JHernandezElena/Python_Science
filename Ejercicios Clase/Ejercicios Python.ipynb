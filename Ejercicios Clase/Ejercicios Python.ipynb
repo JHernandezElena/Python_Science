{
 "cells": [
  {
   "cell_type": "markdown",
   "metadata": {},
   "source": [
    "# EJERCICIOS PYTHON - Julia Hernández Elena\n"
   ]
  },
  {
   "cell_type": "markdown",
   "metadata": {},
   "source": [
    "# EJERCICIO 1 - Environment"
   ]
  },
  {
   "cell_type": "markdown",
   "metadata": {},
   "source": [
    "### Crear un nuevo entorno de conda con python 3.7 con ciertas versiones instaladas:"
   ]
  },
  {
   "cell_type": "code",
   "execution_count": null,
   "metadata": {},
   "outputs": [],
   "source": [
    "!conda create --yes --name ICAI_Tecnologias python=3.7"
   ]
  },
  {
   "cell_type": "code",
   "execution_count": null,
   "metadata": {},
   "outputs": [],
   "source": [
    "!conda activate ICAI_Tecnologias"
   ]
  },
  {
   "cell_type": "code",
   "execution_count": 4,
   "metadata": {},
   "outputs": [
    {
     "name": "stdout",
     "output_type": "stream",
     "text": [
      "Loading channels: ...working... done\n",
      "# Name                       Version           Build  Channel             \n",
      "pyyaml                          3.12          py27_0  conda-forge         \n",
      "pyyaml                          3.12          py27_1  conda-forge         \n",
      "pyyaml                          3.12  py27h0c8e037_1  pkgs/main           \n",
      "pyyaml                          3.12  py27ha287073_1  pkgs/main           \n",
      "pyyaml                          3.12          py34_0  conda-forge         \n",
      "pyyaml                          3.12          py35_0  conda-forge         \n",
      "pyyaml                          3.12          py35_1  conda-forge         \n",
      "pyyaml                          3.12  py35h4bf9689_1  pkgs/main           \n",
      "pyyaml                          3.12  py35hfa6e2cd_1  pkgs/main           \n",
      "pyyaml                          3.12          py36_0  conda-forge         \n",
      "pyyaml                          3.12          py36_1  conda-forge         \n",
      "pyyaml                          3.12  py36h1d1928f_1  pkgs/main           \n",
      "pyyaml                          3.12  py36hfa6e2cd_1  pkgs/main           \n",
      "pyyaml                          3.12  py37hfa6e2cd_1  pkgs/main           \n"
     ]
    }
   ],
   "source": [
    "!conda search PyYAML==5.1"
   ]
  },
  {
   "cell_type": "code",
   "execution_count": null,
   "metadata": {},
   "outputs": [],
   "source": [
    "!conda install --yes pyyaml==5.1"
   ]
  },
  {
   "cell_type": "code",
   "execution_count": null,
   "metadata": {},
   "outputs": [],
   "source": [
    "!conda search numpy==1.15.4"
   ]
  },
  {
   "cell_type": "code",
   "execution_count": null,
   "metadata": {},
   "outputs": [],
   "source": [
    "!conda install --yes numpy==1.15.4"
   ]
  },
  {
   "cell_type": "code",
   "execution_count": null,
   "metadata": {},
   "outputs": [],
   "source": [
    "!conda search pandas==0.24.1"
   ]
  },
  {
   "cell_type": "code",
   "execution_count": null,
   "metadata": {},
   "outputs": [],
   "source": [
    "!conda install --yes pandas==0.24.1"
   ]
  },
  {
   "cell_type": "code",
   "execution_count": null,
   "metadata": {},
   "outputs": [],
   "source": [
    "!conda search python-dateutil==2.7.3"
   ]
  },
  {
   "cell_type": "code",
   "execution_count": null,
   "metadata": {},
   "outputs": [],
   "source": [
    "!conda install --yes python-dateutil==2.7.3"
   ]
  },
  {
   "cell_type": "code",
   "execution_count": null,
   "metadata": {},
   "outputs": [],
   "source": [
    "!conda search scikit-learn>=0.16.1"
   ]
  },
  {
   "cell_type": "code",
   "execution_count": null,
   "metadata": {},
   "outputs": [],
   "source": [
    "!conda install --yes scikit-learn==0.20.1  "
   ]
  },
  {
   "cell_type": "code",
   "execution_count": null,
   "metadata": {},
   "outputs": [],
   "source": [
    "!conda search scipy>=0.16.0"
   ]
  },
  {
   "cell_type": "code",
   "execution_count": null,
   "metadata": {},
   "outputs": [],
   "source": [
    "!conda install --yes scipy==1.1.0"
   ]
  },
  {
   "cell_type": "code",
   "execution_count": null,
   "metadata": {},
   "outputs": [],
   "source": [
    "!conda search six==1.12.0"
   ]
  },
  {
   "cell_type": "code",
   "execution_count": null,
   "metadata": {},
   "outputs": [],
   "source": [
    "!conda install --yes six==1.12.0"
   ]
  },
  {
   "cell_type": "markdown",
   "metadata": {},
   "source": [
    "Comprobamos que todos los paquetes se han instalado correctamente:"
   ]
  },
  {
   "cell_type": "code",
   "execution_count": null,
   "metadata": {},
   "outputs": [],
   "source": [
    "!conda list -n ICAI_Tecnologias"
   ]
  },
  {
   "cell_type": "markdown",
   "metadata": {},
   "source": [
    "### Crear un archivo con la configuración (environment.yml) e instalarlo:"
   ]
  },
  {
   "cell_type": "code",
   "execution_count": null,
   "metadata": {},
   "outputs": [],
   "source": [
    "!conda activate ICAI_Tecnologias"
   ]
  },
  {
   "cell_type": "code",
   "execution_count": null,
   "metadata": {},
   "outputs": [],
   "source": [
    "!conda env export > environment.yml"
   ]
  },
  {
   "cell_type": "code",
   "execution_count": null,
   "metadata": {},
   "outputs": [],
   "source": [
    "!conda deactivate"
   ]
  },
  {
   "cell_type": "code",
   "execution_count": null,
   "metadata": {},
   "outputs": [],
   "source": [
    "!conda env remove -n ICAI_Tecnologias"
   ]
  },
  {
   "cell_type": "code",
   "execution_count": null,
   "metadata": {},
   "outputs": [],
   "source": [
    "!conda env create --file environment.yml"
   ]
  },
  {
   "cell_type": "markdown",
   "metadata": {},
   "source": [
    "# EJERCICO 2 - Fibonacci"
   ]
  },
  {
   "cell_type": "markdown",
   "metadata": {},
   "source": [
    "### Formula recursiva:"
   ]
  },
  {
   "cell_type": "code",
   "execution_count": null,
   "metadata": {},
   "outputs": [],
   "source": [
    "def fibonacci_recurs(n):\n",
    "    if n < 0:\n",
    "        print(\"Incorrect input\")\n",
    "    \n",
    "    # First Fibonacci number is 0\n",
    "    elif n == 1:\n",
    "        return 0\n",
    "    \n",
    "    # Second Fibonacci number is 1 \n",
    "    elif n == 2:\n",
    "        return 1\n",
    "    else:\n",
    "        return fibonacci_recurs(n - 1) + fibonacci_recurs(n - 2)"
   ]
  },
  {
   "cell_type": "code",
   "execution_count": null,
   "metadata": {},
   "outputs": [],
   "source": [
    "##chequeamos\n",
    "fibonacci_recurs(9)"
   ]
  },
  {
   "cell_type": "markdown",
   "metadata": {},
   "source": [
    "### Formula con numero aureo:"
   ]
  },
  {
   "cell_type": "code",
   "execution_count": null,
   "metadata": {},
   "outputs": [],
   "source": [
    "from math import sqrt as sqrt\n",
    "def fibonacci_exp(n):\n",
    "    n=n-1\n",
    "    aureo = (1 + sqrt(5)) / 2 \n",
    "    return int(((aureo**n)-(-aureo)**(-n)) / (sqrt(5)))"
   ]
  },
  {
   "cell_type": "code",
   "execution_count": null,
   "metadata": {},
   "outputs": [],
   "source": [
    "##chequeamos\n",
    "fibonacci_exp(9)"
   ]
  },
  {
   "cell_type": "markdown",
   "metadata": {},
   "source": [
    "# EJERCICIO 3 - BeautifulSoup"
   ]
  },
  {
   "cell_type": "markdown",
   "metadata": {},
   "source": [
    "### Generar el código necesario para automatizar la descarga y parseo de las siguiente películas:"
   ]
  },
  {
   "cell_type": "code",
   "execution_count": 14,
   "metadata": {},
   "outputs": [],
   "source": [
    "peliculas = [\n",
    "\n",
    "    'http://www.imdb.com/title/tt0071562',\n",
    "    'http://www.imdb.com/title/tt0110912',\n",
    "    'http://www.imdb.com/title/tt0050083',\n",
    "    'http://www.imdb.com/title/tt0108052',\n",
    "    'http://www.imdb.com/title/tt0468569',\n",
    "    'http://www.imdb.com/title/tt0068646',\n",
    "    'http://www.imdb.com/title/tt0167260',\n",
    "    'http://www.imdb.com/title/tt0060196',\n",
    "    'http://www.imdb.com/title/tt0137523',\n",
    "    'http://www.imdb.com/title/tt0111161',\n",
    "\n",
    "]"
   ]
  },
  {
   "cell_type": "code",
   "execution_count": 15,
   "metadata": {},
   "outputs": [],
   "source": [
    "import requests\n",
    "from bs4 import BeautifulSoup"
   ]
  },
  {
   "cell_type": "code",
   "execution_count": 16,
   "metadata": {},
   "outputs": [],
   "source": [
    "def parsear_html(texto):\n",
    "    soup = BeautifulSoup(texto,'lxml')\n",
    "    item = dict()\n",
    "    item['titulo'] = soup.find(\"h1\").find(text=True).replace(u'\\xa0',' ').strip()\n",
    "    item['ratingvalue'] = float(soup.select_one('[itemprop=\"ratingValue\"]').text)\n",
    "    return item"
   ]
  },
  {
   "cell_type": "markdown",
   "metadata": {},
   "source": [
    "###  Ordenar lista de pelis por ratingvalue:"
   ]
  },
  {
   "cell_type": "code",
   "execution_count": 22,
   "metadata": {},
   "outputs": [],
   "source": [
    "# Descargamos la urls\n",
    "urls = [requests.get(pelicula) for pelicula in peliculas]"
   ]
  },
  {
   "cell_type": "code",
   "execution_count": 23,
   "metadata": {},
   "outputs": [
    {
     "data": {
      "text/plain": [
       "[<Response [200]>,\n",
       " <Response [200]>,\n",
       " <Response [200]>,\n",
       " <Response [200]>,\n",
       " <Response [200]>,\n",
       " <Response [200]>,\n",
       " <Response [200]>,\n",
       " <Response [200]>,\n",
       " <Response [200]>,\n",
       " <Response [200]>]"
      ]
     },
     "execution_count": 23,
     "metadata": {},
     "output_type": "execute_result"
    }
   ],
   "source": [
    "urls"
   ]
  },
  {
   "cell_type": "code",
   "execution_count": 24,
   "metadata": {},
   "outputs": [],
   "source": [
    "#Creamos una lista de diccionarios - Un diccionario con su info para cada pelicula\n",
    "urls_parseadas = [parsear_html(url.content) for url in urls]"
   ]
  },
  {
   "cell_type": "code",
   "execution_count": 25,
   "metadata": {},
   "outputs": [
    {
     "name": "stdout",
     "output_type": "stream",
     "text": [
      "[{'titulo': 'El padrino: Parte II', 'ratingvalue': 9.0}, {'titulo': 'Pulp Fiction', 'ratingvalue': 8.9}, {'titulo': '12 hombres sin piedad', 'ratingvalue': 8.9}, {'titulo': 'La lista de Schindler', 'ratingvalue': 8.9}, {'titulo': 'El caballero oscuro', 'ratingvalue': 9.0}, {'titulo': 'El padrino', 'ratingvalue': 9.2}, {'titulo': 'El señor de los anillos: El retorno del rey', 'ratingvalue': 8.9}, {'titulo': 'El bueno, el feo y el malo', 'ratingvalue': 8.8}, {'titulo': 'El club de la lucha', 'ratingvalue': 8.8}, {'titulo': 'Cadena perpetua', 'ratingvalue': 9.3}]\n"
     ]
    }
   ],
   "source": [
    "print(urls_parseadas)"
   ]
  },
  {
   "cell_type": "code",
   "execution_count": 158,
   "metadata": {},
   "outputs": [],
   "source": [
    "#Creamos la lista de diccionarios con el resultado del parseo ordenadas de mayor a menor ratingvalue\n",
    "sorted_urls_parseadas = sorted(urls_parseadas, key=lambda url: url[\"ratingvalue\"], reverse = True)"
   ]
  },
  {
   "cell_type": "code",
   "execution_count": 159,
   "metadata": {},
   "outputs": [
    {
     "name": "stdout",
     "output_type": "stream",
     "text": [
      "[{'titulo': 'Cadena perpetua', 'ratingvalue': 9.3}, {'titulo': 'El padrino', 'ratingvalue': 9.2}, {'titulo': 'El padrino: Parte II', 'ratingvalue': 9.0}, {'titulo': 'El caballero oscuro', 'ratingvalue': 9.0}, {'titulo': 'Pulp Fiction', 'ratingvalue': 8.9}, {'titulo': '12 hombres sin piedad', 'ratingvalue': 8.9}, {'titulo': 'La lista de Schindler', 'ratingvalue': 8.9}, {'titulo': 'El señor de los anillos: El retorno del rey', 'ratingvalue': 8.9}, {'titulo': 'El bueno, el feo y el malo', 'ratingvalue': 8.8}, {'titulo': 'El club de la lucha', 'ratingvalue': 8.8}]\n"
     ]
    }
   ],
   "source": [
    "print(sorted_urls_parseadas)"
   ]
  },
  {
   "cell_type": "code",
   "execution_count": 163,
   "metadata": {},
   "outputs": [],
   "source": [
    "#EXTRA:\n",
    "#Creamos un diccionario con el orden de ratingvalue como KEY, y el parseo de cada peli como VALUE\n",
    "dictionary = dict()\n",
    "for i in range (0, len(sorted_urls_parseadas)):\n",
    "    dictionary[i+1] = sorted_urls_parseadas[i]"
   ]
  },
  {
   "cell_type": "code",
   "execution_count": 164,
   "metadata": {},
   "outputs": [
    {
     "name": "stdout",
     "output_type": "stream",
     "text": [
      "{1: {'titulo': 'Cadena perpetua', 'ratingvalue': 9.3}, 2: {'titulo': 'El padrino', 'ratingvalue': 9.2}, 3: {'titulo': 'El padrino: Parte II', 'ratingvalue': 9.0}, 4: {'titulo': 'El caballero oscuro', 'ratingvalue': 9.0}, 5: {'titulo': 'Pulp Fiction', 'ratingvalue': 8.9}, 6: {'titulo': '12 hombres sin piedad', 'ratingvalue': 8.9}, 7: {'titulo': 'La lista de Schindler', 'ratingvalue': 8.9}, 8: {'titulo': 'El señor de los anillos: El retorno del rey', 'ratingvalue': 8.9}, 9: {'titulo': 'El bueno, el feo y el malo', 'ratingvalue': 8.8}, 10: {'titulo': 'El club de la lucha', 'ratingvalue': 8.8}}\n"
     ]
    }
   ],
   "source": [
    "print(dictionary)"
   ]
  },
  {
   "cell_type": "markdown",
   "metadata": {},
   "source": [
    "# EJERCICIO 4 - Vectores"
   ]
  },
  {
   "cell_type": "code",
   "execution_count": 1,
   "metadata": {},
   "outputs": [
    {
     "name": "stderr",
     "output_type": "stream",
     "text": [
      "'head' is not recognized as an internal or external command,\n",
      "operable program or batch file.\n"
     ]
    }
   ],
   "source": [
    "!head files/vectores.txt"
   ]
  },
  {
   "cell_type": "code",
   "execution_count": 69,
   "metadata": {},
   "outputs": [],
   "source": [
    "import numpy as np"
   ]
  },
  {
   "cell_type": "markdown",
   "metadata": {},
   "source": [
    "Cargamos la matrix y el vector:"
   ]
  },
  {
   "cell_type": "code",
   "execution_count": 133,
   "metadata": {},
   "outputs": [],
   "source": [
    "beta = np.array([-10.749495878,-0.714877620,0.005738104])"
   ]
  },
  {
   "cell_type": "code",
   "execution_count": 134,
   "metadata": {},
   "outputs": [],
   "source": [
    "matrix = np.genfromtxt('files/vectores.txt')"
   ]
  },
  {
   "cell_type": "markdown",
   "metadata": {},
   "source": [
    "### Producto matriz-vector:\n",
    "Varias maneras de hacer la multiplicación matrix-vector:"
   ]
  },
  {
   "cell_type": "code",
   "execution_count": 136,
   "metadata": {},
   "outputs": [
    {
     "name": "stdout",
     "output_type": "stream",
     "text": [
      "[ -6.56339698  -6.77530734  -4.58935913 ...  -5.89843396  -1.74635875\n",
      " -10.31146112]\n"
     ]
    }
   ],
   "source": [
    "p = matrix.dot(beta)\n",
    "print(p)"
   ]
  },
  {
   "cell_type": "code",
   "execution_count": 137,
   "metadata": {},
   "outputs": [
    {
     "name": "stdout",
     "output_type": "stream",
     "text": [
      "[ -6.56339698  -6.77530734  -4.58935913 ...  -5.89843396  -1.74635875\n",
      " -10.31146112]\n"
     ]
    }
   ],
   "source": [
    "p = matrix@beta\n",
    "print(p)"
   ]
  },
  {
   "cell_type": "code",
   "execution_count": 14,
   "metadata": {},
   "outputs": [
    {
     "name": "stdout",
     "output_type": "stream",
     "text": [
      "[ -6.56339698  -6.77530734  -4.58935913 ...  -5.89843396  -1.74635875\n",
      " -10.31146112]\n"
     ]
    }
   ],
   "source": [
    "p = np.inner(matrix, beta)\n",
    "print(p)"
   ]
  },
  {
   "cell_type": "markdown",
   "metadata": {},
   "source": [
    "### Calcular 'y' usando p:"
   ]
  },
  {
   "cell_type": "code",
   "execution_count": 140,
   "metadata": {},
   "outputs": [],
   "source": [
    "y = 1/(1+np.exp(-p))"
   ]
  },
  {
   "cell_type": "code",
   "execution_count": 41,
   "metadata": {},
   "outputs": [
    {
     "data": {
      "text/plain": [
       "array([1.40909579e-03, 1.14031777e-03, 1.00571925e-02, ...,\n",
       "       2.73623076e-03, 1.48507055e-01, 3.32487174e-05])"
      ]
     },
     "execution_count": 41,
     "metadata": {},
     "output_type": "execute_result"
    }
   ],
   "source": [
    "y"
   ]
  },
  {
   "cell_type": "markdown",
   "metadata": {},
   "source": [
    "### Chequeamos que los valores se encuentra en [0,1]:"
   ]
  },
  {
   "cell_type": "code",
   "execution_count": 46,
   "metadata": {},
   "outputs": [
    {
     "data": {
      "text/plain": [
       "True"
      ]
     },
     "execution_count": 46,
     "metadata": {},
     "output_type": "execute_result"
    }
   ],
   "source": [
    "np.all([True for i in y if i>=0 and i<=1])"
   ]
  },
  {
   "cell_type": "markdown",
   "metadata": {},
   "source": [
    "### Filtramos valores mayores a 0.5:"
   ]
  },
  {
   "cell_type": "code",
   "execution_count": 142,
   "metadata": {},
   "outputs": [
    {
     "name": "stdout",
     "output_type": "stream",
     "text": [
      "[0.50539582 0.50926088 0.50973921 0.51412193 0.5144781  0.5168467\n",
      " 0.52318182 0.52328834 0.52373802 0.52544993 0.52856831 0.52926095\n",
      " 0.53542653 0.53575929 0.53750479 0.53825935 0.54121578 0.5414002\n",
      " 0.54187551 0.54337684 0.54865393 0.55064373 0.55250612 0.55418929\n",
      " 0.55474389 0.55798769 0.55819726 0.55993018 0.56099945 0.56686073\n",
      " 0.56941307 0.57050141 0.57050656 0.5753001  0.57579382 0.57712487\n",
      " 0.57814839 0.59497203 0.59737533 0.59988593 0.61412188 0.61578501\n",
      " 0.61996686 0.62442851 0.62710655 0.62720029 0.62782019 0.62896247\n",
      " 0.63236384 0.63511909 0.6363374  0.63807122 0.64026186 0.64267804\n",
      " 0.65028239 0.65543637 0.65615843 0.66012558 0.66281111 0.66346946\n",
      " 0.66460518 0.66675052 0.66697843 0.67050929 0.67254974 0.67396352\n",
      " 0.67560425 0.67891782 0.68107203 0.68282816 0.68465514 0.68552491\n",
      " 0.68585899 0.68699388 0.70001021 0.70326577 0.70371033 0.70448442\n",
      " 0.70456528 0.71446514 0.71487285 0.71889416 0.71999464 0.72109056\n",
      " 0.72304627 0.72679787 0.72764359 0.73263845 0.73659484 0.73868913\n",
      " 0.73889355 0.74234101 0.74262121 0.74345904 0.74790507 0.74866304\n",
      " 0.75952658 0.76059892 0.76099695 0.76114213 0.76694462 0.7672296\n",
      " 0.7690686  0.77167952 0.77378739 0.77753629 0.7778459  0.78116884\n",
      " 0.78216924 0.79822335 0.80714536 0.80877795 0.8124116  0.81645975\n",
      " 0.81970446 0.82647074 0.82806954 0.82936123 0.83448825 0.84019341\n",
      " 0.84358753 0.85622653 0.858274   0.8651603  0.86858011 0.87235289\n",
      " 0.87314647 0.88023307 0.88411229 0.88469986 0.88946518 0.89450371\n",
      " 0.90328656 0.90371638 0.91541555 0.91644268 0.93462525 0.93699465\n",
      " 0.94766288 0.95121676 0.95682596 0.96548211 0.97314607 0.97738806]\n"
     ]
    }
   ],
   "source": [
    "y = np.sort(y[y>0.5])\n",
    "print(y)"
   ]
  },
  {
   "cell_type": "code",
   "execution_count": 143,
   "metadata": {},
   "outputs": [
    {
     "data": {
      "text/plain": [
       "True"
      ]
     },
     "execution_count": 143,
     "metadata": {},
     "output_type": "execute_result"
    }
   ],
   "source": [
    "#Chequeamos que lo hemos hecho bien:\n",
    "np.all([True for i in y if i>0.5])"
   ]
  },
  {
   "cell_type": "markdown",
   "metadata": {},
   "source": [
    "# EJERCICIO 5 - Panda Dataframes"
   ]
  },
  {
   "cell_type": "code",
   "execution_count": 144,
   "metadata": {},
   "outputs": [],
   "source": [
    "import pandas as pd"
   ]
  },
  {
   "cell_type": "markdown",
   "metadata": {},
   "source": [
    "### 1. Automatizar el proceso de lectura de todos los ficheros y conseguir una lista de DataFrame de pandas:"
   ]
  },
  {
   "cell_type": "code",
   "execution_count": 7,
   "metadata": {},
   "outputs": [],
   "source": [
    "#Leemos un fichero en particular para corroborar que se lee bien\n",
    "lectura = pd.read_csv(\"files_bolsa/file_12.csv\",sep=\",\",header = 0) #coger la primera fila como header"
   ]
  },
  {
   "cell_type": "code",
   "execution_count": 8,
   "metadata": {},
   "outputs": [
    {
     "data": {
      "text/html": [
       "<div>\n",
       "<style scoped>\n",
       "    .dataframe tbody tr th:only-of-type {\n",
       "        vertical-align: middle;\n",
       "    }\n",
       "\n",
       "    .dataframe tbody tr th {\n",
       "        vertical-align: top;\n",
       "    }\n",
       "\n",
       "    .dataframe thead th {\n",
       "        text-align: right;\n",
       "    }\n",
       "</style>\n",
       "<table border=\"1\" class=\"dataframe\">\n",
       "  <thead>\n",
       "    <tr style=\"text-align: right;\">\n",
       "      <th></th>\n",
       "      <th>GOOGL.Open</th>\n",
       "      <th>GOOGL.High</th>\n",
       "      <th>GOOGL.Low</th>\n",
       "      <th>GOOGL.Close</th>\n",
       "      <th>GOOGL.Volume</th>\n",
       "      <th>GOOGL.Adjusted</th>\n",
       "      <th>date</th>\n",
       "    </tr>\n",
       "  </thead>\n",
       "  <tbody>\n",
       "    <tr>\n",
       "      <td>0</td>\n",
       "      <td>281.647</td>\n",
       "      <td>284.675</td>\n",
       "      <td>281.281</td>\n",
       "      <td>283.663666</td>\n",
       "      <td>4457100</td>\n",
       "      <td>283.663666</td>\n",
       "      <td>2009-11-10</td>\n",
       "    </tr>\n",
       "    <tr>\n",
       "      <td>1</td>\n",
       "      <td>97.287</td>\n",
       "      <td>98.428</td>\n",
       "      <td>95.410</td>\n",
       "      <td>96.046043</td>\n",
       "      <td>37640300</td>\n",
       "      <td>96.046043</td>\n",
       "      <td>2005-02-01</td>\n",
       "    </tr>\n",
       "    <tr>\n",
       "      <td>2</td>\n",
       "      <td>242.192</td>\n",
       "      <td>242.863</td>\n",
       "      <td>236.481</td>\n",
       "      <td>237.837845</td>\n",
       "      <td>13194700</td>\n",
       "      <td>237.837845</td>\n",
       "      <td>2006-10-27</td>\n",
       "    </tr>\n",
       "    <tr>\n",
       "      <td>3</td>\n",
       "      <td>185.115</td>\n",
       "      <td>186.256</td>\n",
       "      <td>181.992</td>\n",
       "      <td>184.559555</td>\n",
       "      <td>28611700</td>\n",
       "      <td>184.559555</td>\n",
       "      <td>2006-02-17</td>\n",
       "    </tr>\n",
       "    <tr>\n",
       "      <td>4</td>\n",
       "      <td>258.093</td>\n",
       "      <td>260.200</td>\n",
       "      <td>254.364</td>\n",
       "      <td>254.779785</td>\n",
       "      <td>6638500</td>\n",
       "      <td>254.779785</td>\n",
       "      <td>2010-05-11</td>\n",
       "    </tr>\n",
       "  </tbody>\n",
       "</table>\n",
       "</div>"
      ],
      "text/plain": [
       "   GOOGL.Open  GOOGL.High  GOOGL.Low  GOOGL.Close  GOOGL.Volume  \\\n",
       "0     281.647     284.675    281.281   283.663666       4457100   \n",
       "1      97.287      98.428     95.410    96.046043      37640300   \n",
       "2     242.192     242.863    236.481   237.837845      13194700   \n",
       "3     185.115     186.256    181.992   184.559555      28611700   \n",
       "4     258.093     260.200    254.364   254.779785       6638500   \n",
       "\n",
       "   GOOGL.Adjusted        date  \n",
       "0      283.663666  2009-11-10  \n",
       "1       96.046043  2005-02-01  \n",
       "2      237.837845  2006-10-27  \n",
       "3      184.559555  2006-02-17  \n",
       "4      254.779785  2010-05-11  "
      ]
     },
     "execution_count": 8,
     "metadata": {},
     "output_type": "execute_result"
    }
   ],
   "source": [
    "lectura.head()"
   ]
  },
  {
   "cell_type": "code",
   "execution_count": 146,
   "metadata": {},
   "outputs": [
    {
     "name": "stdout",
     "output_type": "stream",
     "text": [
      "['file_1.csv', 'file_10.csv', 'file_100.csv', 'file_101.csv', 'file_102.csv', 'file_103.csv', 'file_104.csv', 'file_105.csv', 'file_106.csv', 'file_107.csv', 'file_108.csv', 'file_11.csv', 'file_12.csv', 'file_13.csv', 'file_14.csv', 'file_15.csv', 'file_16.csv', 'file_17.csv', 'file_18.csv', 'file_19.csv', 'file_2.csv', 'file_20.csv', 'file_21.csv', 'file_22.csv', 'file_23.csv', 'file_24.csv', 'file_25.csv', 'file_26.csv', 'file_27.csv', 'file_28.csv', 'file_29.csv', 'file_3.csv', 'file_30.csv', 'file_31.csv', 'file_32.csv', 'file_33.csv', 'file_34.csv', 'file_35.csv', 'file_36.csv', 'file_37.csv', 'file_38.csv', 'file_39.csv', 'file_4.csv', 'file_40.csv', 'file_41.csv', 'file_42.csv', 'file_43.csv', 'file_44.csv', 'file_45.csv', 'file_46.csv', 'file_47.csv', 'file_48.csv', 'file_49.csv', 'file_5.csv', 'file_50.csv', 'file_51.csv', 'file_52.csv', 'file_53.csv', 'file_54.csv', 'file_55.csv', 'file_56.csv', 'file_57.csv', 'file_58.csv', 'file_59.csv', 'file_6.csv', 'file_60.csv', 'file_61.csv', 'file_62.csv', 'file_63.csv', 'file_64.csv', 'file_65.csv', 'file_66.csv', 'file_67.csv', 'file_68.csv', 'file_69.csv', 'file_7.csv', 'file_70.csv', 'file_71.csv', 'file_72.csv', 'file_73.csv', 'file_74.csv', 'file_75.csv', 'file_76.csv', 'file_77.csv', 'file_78.csv', 'file_79.csv', 'file_8.csv', 'file_80.csv', 'file_81.csv', 'file_82.csv', 'file_83.csv', 'file_84.csv', 'file_85.csv', 'file_86.csv', 'file_87.csv', 'file_88.csv', 'file_89.csv', 'file_9.csv', 'file_90.csv', 'file_91.csv', 'file_92.csv', 'file_93.csv', 'file_94.csv', 'file_95.csv', 'file_96.csv', 'file_97.csv', 'file_98.csv', 'file_99.csv']\n"
     ]
    }
   ],
   "source": [
    "#leemos cada cosa en el directorio y comprobamos que son archivos (no directorios) con el isfile\n",
    "from os import listdir\n",
    "from os.path import isfile, join\n",
    "files = [f for f in listdir(\"files_bolsa\") if isfile(join(\"files_bolsa\", f))] \n",
    "print(files)"
   ]
  },
  {
   "cell_type": "code",
   "execution_count": 12,
   "metadata": {},
   "outputs": [],
   "source": [
    "lista_df = [pd.read_csv(\"files_bolsa/\" + file,sep=\",\",header = 0) for file in files]"
   ]
  },
  {
   "cell_type": "code",
   "execution_count": 28,
   "metadata": {},
   "outputs": [
    {
     "data": {
      "text/plain": [
       "pandas.core.frame.DataFrame"
      ]
     },
     "execution_count": 28,
     "metadata": {},
     "output_type": "execute_result"
    }
   ],
   "source": [
    "type(lista_df)"
   ]
  },
  {
   "cell_type": "code",
   "execution_count": null,
   "metadata": {},
   "outputs": [],
   "source": [
    "type(lista_df[0]) #comprobamos que tenemos una lista de DataFrames"
   ]
  },
  {
   "cell_type": "markdown",
   "metadata": {},
   "source": [
    "### 2. Conseguir un único DataFrame con toda la información del punto 1:"
   ]
  },
  {
   "cell_type": "code",
   "execution_count": 147,
   "metadata": {},
   "outputs": [],
   "source": [
    "df = pd.concat(lista_df)"
   ]
  },
  {
   "cell_type": "code",
   "execution_count": 148,
   "metadata": {},
   "outputs": [
    {
     "data": {
      "text/plain": [
       "3219"
      ]
     },
     "execution_count": 148,
     "metadata": {},
     "output_type": "execute_result"
    }
   ],
   "source": [
    "len(df)"
   ]
  },
  {
   "cell_type": "code",
   "execution_count": 38,
   "metadata": {},
   "outputs": [
    {
     "data": {
      "text/plain": [
       "pandas.core.frame.DataFrame"
      ]
     },
     "execution_count": 38,
     "metadata": {},
     "output_type": "execute_result"
    }
   ],
   "source": [
    "type(df)"
   ]
  },
  {
   "cell_type": "code",
   "execution_count": 40,
   "metadata": {},
   "outputs": [
    {
     "data": {
      "text/html": [
       "<div>\n",
       "<style scoped>\n",
       "    .dataframe tbody tr th:only-of-type {\n",
       "        vertical-align: middle;\n",
       "    }\n",
       "\n",
       "    .dataframe tbody tr th {\n",
       "        vertical-align: top;\n",
       "    }\n",
       "\n",
       "    .dataframe thead th {\n",
       "        text-align: right;\n",
       "    }\n",
       "</style>\n",
       "<table border=\"1\" class=\"dataframe\">\n",
       "  <thead>\n",
       "    <tr style=\"text-align: right;\">\n",
       "      <th></th>\n",
       "      <th>GOOGL.Open</th>\n",
       "      <th>GOOGL.High</th>\n",
       "      <th>GOOGL.Low</th>\n",
       "      <th>GOOGL.Close</th>\n",
       "      <th>GOOGL.Volume</th>\n",
       "      <th>GOOGL.Adjusted</th>\n",
       "      <th>date</th>\n",
       "    </tr>\n",
       "  </thead>\n",
       "  <tbody>\n",
       "    <tr>\n",
       "      <td>0</td>\n",
       "      <td>263.824</td>\n",
       "      <td>264.510</td>\n",
       "      <td>260.260</td>\n",
       "      <td>263.478485</td>\n",
       "      <td>6611700</td>\n",
       "      <td>263.478485</td>\n",
       "      <td>2010-02-25</td>\n",
       "    </tr>\n",
       "    <tr>\n",
       "      <td>1</td>\n",
       "      <td>226.226</td>\n",
       "      <td>231.321</td>\n",
       "      <td>225.841</td>\n",
       "      <td>230.435440</td>\n",
       "      <td>7989800</td>\n",
       "      <td>230.435440</td>\n",
       "      <td>2009-08-20</td>\n",
       "    </tr>\n",
       "    <tr>\n",
       "      <td>2</td>\n",
       "      <td>287.883</td>\n",
       "      <td>291.517</td>\n",
       "      <td>286.286</td>\n",
       "      <td>291.371368</td>\n",
       "      <td>3628700</td>\n",
       "      <td>291.371368</td>\n",
       "      <td>2011-03-23</td>\n",
       "    </tr>\n",
       "    <tr>\n",
       "      <td>3</td>\n",
       "      <td>199.284</td>\n",
       "      <td>201.401</td>\n",
       "      <td>197.593</td>\n",
       "      <td>201.191193</td>\n",
       "      <td>6399500</td>\n",
       "      <td>201.191193</td>\n",
       "      <td>2009-05-04</td>\n",
       "    </tr>\n",
       "    <tr>\n",
       "      <td>4</td>\n",
       "      <td>297.432</td>\n",
       "      <td>301.802</td>\n",
       "      <td>292.107</td>\n",
       "      <td>300.885895</td>\n",
       "      <td>7643700</td>\n",
       "      <td>300.885895</td>\n",
       "      <td>2011-08-03</td>\n",
       "    </tr>\n",
       "  </tbody>\n",
       "</table>\n",
       "</div>"
      ],
      "text/plain": [
       "   GOOGL.Open  GOOGL.High  GOOGL.Low  GOOGL.Close  GOOGL.Volume  \\\n",
       "0     263.824     264.510    260.260   263.478485       6611700   \n",
       "1     226.226     231.321    225.841   230.435440       7989800   \n",
       "2     287.883     291.517    286.286   291.371368       3628700   \n",
       "3     199.284     201.401    197.593   201.191193       6399500   \n",
       "4     297.432     301.802    292.107   300.885895       7643700   \n",
       "\n",
       "   GOOGL.Adjusted        date  \n",
       "0      263.478485  2010-02-25  \n",
       "1      230.435440  2009-08-20  \n",
       "2      291.371368  2011-03-23  \n",
       "3      201.191193  2009-05-04  \n",
       "4      300.885895  2011-08-03  "
      ]
     },
     "execution_count": 40,
     "metadata": {},
     "output_type": "execute_result"
    }
   ],
   "source": [
    "df.head()"
   ]
  },
  {
   "cell_type": "markdown",
   "metadata": {},
   "source": [
    "### 3. Ordenar el DataFrame por fecha:"
   ]
  },
  {
   "cell_type": "code",
   "execution_count": 44,
   "metadata": {},
   "outputs": [],
   "source": [
    "ordered_df = df.sort_values(by='date') "
   ]
  },
  {
   "cell_type": "markdown",
   "metadata": {},
   "source": [
    "### 4. Calcular el máximo, mínimo y media por mes y año del valor ajustado (Adjusted):"
   ]
  },
  {
   "cell_type": "code",
   "execution_count": 62,
   "metadata": {},
   "outputs": [],
   "source": [
    "#Creamos dos nuevas columnas, una con el año y otra con el mes\n",
    "year = df.date.str.split('-').str[0]\n",
    "month = df.date.str.split('-').str[1]"
   ]
  },
  {
   "cell_type": "code",
   "execution_count": 66,
   "metadata": {},
   "outputs": [],
   "source": [
    "#Añadimos las columnas al dataframe\n",
    "df['year'] = year\n",
    "df['month'] = month"
   ]
  },
  {
   "cell_type": "code",
   "execution_count": 68,
   "metadata": {},
   "outputs": [
    {
     "data": {
      "text/html": [
       "<div>\n",
       "<style scoped>\n",
       "    .dataframe tbody tr th:only-of-type {\n",
       "        vertical-align: middle;\n",
       "    }\n",
       "\n",
       "    .dataframe tbody tr th {\n",
       "        vertical-align: top;\n",
       "    }\n",
       "\n",
       "    .dataframe thead th {\n",
       "        text-align: right;\n",
       "    }\n",
       "</style>\n",
       "<table border=\"1\" class=\"dataframe\">\n",
       "  <thead>\n",
       "    <tr style=\"text-align: right;\">\n",
       "      <th></th>\n",
       "      <th>GOOGL.Open</th>\n",
       "      <th>GOOGL.High</th>\n",
       "      <th>GOOGL.Low</th>\n",
       "      <th>GOOGL.Close</th>\n",
       "      <th>GOOGL.Volume</th>\n",
       "      <th>GOOGL.Adjusted</th>\n",
       "      <th>date</th>\n",
       "      <th>year</th>\n",
       "      <th>month</th>\n",
       "    </tr>\n",
       "    <tr>\n",
       "      <th>date</th>\n",
       "      <th></th>\n",
       "      <th></th>\n",
       "      <th></th>\n",
       "      <th></th>\n",
       "      <th></th>\n",
       "      <th></th>\n",
       "      <th></th>\n",
       "      <th></th>\n",
       "      <th></th>\n",
       "    </tr>\n",
       "  </thead>\n",
       "  <tbody>\n",
       "    <tr>\n",
       "      <td>2010-02-25</td>\n",
       "      <td>263.824</td>\n",
       "      <td>264.510</td>\n",
       "      <td>260.260</td>\n",
       "      <td>263.478485</td>\n",
       "      <td>6611700</td>\n",
       "      <td>263.478485</td>\n",
       "      <td>2010-02-25</td>\n",
       "      <td>2010</td>\n",
       "      <td>02</td>\n",
       "    </tr>\n",
       "    <tr>\n",
       "      <td>2009-08-20</td>\n",
       "      <td>226.226</td>\n",
       "      <td>231.321</td>\n",
       "      <td>225.841</td>\n",
       "      <td>230.435440</td>\n",
       "      <td>7989800</td>\n",
       "      <td>230.435440</td>\n",
       "      <td>2009-08-20</td>\n",
       "      <td>2009</td>\n",
       "      <td>08</td>\n",
       "    </tr>\n",
       "    <tr>\n",
       "      <td>2011-03-23</td>\n",
       "      <td>287.883</td>\n",
       "      <td>291.517</td>\n",
       "      <td>286.286</td>\n",
       "      <td>291.371368</td>\n",
       "      <td>3628700</td>\n",
       "      <td>291.371368</td>\n",
       "      <td>2011-03-23</td>\n",
       "      <td>2011</td>\n",
       "      <td>03</td>\n",
       "    </tr>\n",
       "    <tr>\n",
       "      <td>2009-05-04</td>\n",
       "      <td>199.284</td>\n",
       "      <td>201.401</td>\n",
       "      <td>197.593</td>\n",
       "      <td>201.191193</td>\n",
       "      <td>6399500</td>\n",
       "      <td>201.191193</td>\n",
       "      <td>2009-05-04</td>\n",
       "      <td>2009</td>\n",
       "      <td>05</td>\n",
       "    </tr>\n",
       "    <tr>\n",
       "      <td>2011-08-03</td>\n",
       "      <td>297.432</td>\n",
       "      <td>301.802</td>\n",
       "      <td>292.107</td>\n",
       "      <td>300.885895</td>\n",
       "      <td>7643700</td>\n",
       "      <td>300.885895</td>\n",
       "      <td>2011-08-03</td>\n",
       "      <td>2011</td>\n",
       "      <td>08</td>\n",
       "    </tr>\n",
       "  </tbody>\n",
       "</table>\n",
       "</div>"
      ],
      "text/plain": [
       "            GOOGL.Open  GOOGL.High  GOOGL.Low  GOOGL.Close  GOOGL.Volume  \\\n",
       "date                                                                       \n",
       "2010-02-25     263.824     264.510    260.260   263.478485       6611700   \n",
       "2009-08-20     226.226     231.321    225.841   230.435440       7989800   \n",
       "2011-03-23     287.883     291.517    286.286   291.371368       3628700   \n",
       "2009-05-04     199.284     201.401    197.593   201.191193       6399500   \n",
       "2011-08-03     297.432     301.802    292.107   300.885895       7643700   \n",
       "\n",
       "            GOOGL.Adjusted        date  year month  \n",
       "date                                                \n",
       "2010-02-25      263.478485  2010-02-25  2010    02  \n",
       "2009-08-20      230.435440  2009-08-20  2009    08  \n",
       "2011-03-23      291.371368  2011-03-23  2011    03  \n",
       "2009-05-04      201.191193  2009-05-04  2009    05  \n",
       "2011-08-03      300.885895  2011-08-03  2011    08  "
      ]
     },
     "execution_count": 68,
     "metadata": {},
     "output_type": "execute_result"
    }
   ],
   "source": [
    "df.head()"
   ]
  },
  {
   "cell_type": "code",
   "execution_count": 79,
   "metadata": {},
   "outputs": [],
   "source": [
    "#Creamos dataframes agrupadas por año y mes\n",
    "by_year = df.groupby(year)\n",
    "by_month = df.groupby(month)"
   ]
  },
  {
   "cell_type": "markdown",
   "metadata": {},
   "source": [
    "##### Media, Max y Min de Ajusted por Año:"
   ]
  },
  {
   "cell_type": "code",
   "execution_count": 88,
   "metadata": {
    "scrolled": false
   },
   "outputs": [
    {
     "data": {
      "text/html": [
       "<div>\n",
       "<style scoped>\n",
       "    .dataframe tbody tr th:only-of-type {\n",
       "        vertical-align: middle;\n",
       "    }\n",
       "\n",
       "    .dataframe tbody tr th {\n",
       "        vertical-align: top;\n",
       "    }\n",
       "\n",
       "    .dataframe thead th {\n",
       "        text-align: right;\n",
       "    }\n",
       "</style>\n",
       "<table border=\"1\" class=\"dataframe\">\n",
       "  <thead>\n",
       "    <tr style=\"text-align: right;\">\n",
       "      <th></th>\n",
       "      <th>media</th>\n",
       "      <th>maximo</th>\n",
       "      <th>minimo</th>\n",
       "    </tr>\n",
       "    <tr>\n",
       "      <th>date</th>\n",
       "      <th></th>\n",
       "      <th></th>\n",
       "      <th></th>\n",
       "    </tr>\n",
       "  </thead>\n",
       "  <tbody>\n",
       "    <tr>\n",
       "      <td>2005</td>\n",
       "      <td>139.018562</td>\n",
       "      <td>216.236237</td>\n",
       "      <td>87.582581</td>\n",
       "    </tr>\n",
       "    <tr>\n",
       "      <td>2006</td>\n",
       "      <td>205.798448</td>\n",
       "      <td>255.080078</td>\n",
       "      <td>168.698700</td>\n",
       "    </tr>\n",
       "    <tr>\n",
       "      <td>2007</td>\n",
       "      <td>269.644864</td>\n",
       "      <td>371.266266</td>\n",
       "      <td>219.559555</td>\n",
       "    </tr>\n",
       "    <tr>\n",
       "      <td>2008</td>\n",
       "      <td>232.658667</td>\n",
       "      <td>343.007996</td>\n",
       "      <td>128.848846</td>\n",
       "    </tr>\n",
       "    <tr>\n",
       "      <td>2009</td>\n",
       "      <td>220.064231</td>\n",
       "      <td>311.746735</td>\n",
       "      <td>141.516510</td>\n",
       "    </tr>\n",
       "    <tr>\n",
       "      <td>2010</td>\n",
       "      <td>268.079627</td>\n",
       "      <td>313.698700</td>\n",
       "      <td>218.253250</td>\n",
       "    </tr>\n",
       "    <tr>\n",
       "      <td>2011</td>\n",
       "      <td>284.771855</td>\n",
       "      <td>323.273285</td>\n",
       "      <td>237.677673</td>\n",
       "    </tr>\n",
       "    <tr>\n",
       "      <td>2012</td>\n",
       "      <td>321.729969</td>\n",
       "      <td>384.409424</td>\n",
       "      <td>279.804810</td>\n",
       "    </tr>\n",
       "    <tr>\n",
       "      <td>2013</td>\n",
       "      <td>442.563933</td>\n",
       "      <td>560.915894</td>\n",
       "      <td>351.786774</td>\n",
       "    </tr>\n",
       "    <tr>\n",
       "      <td>2014</td>\n",
       "      <td>568.122366</td>\n",
       "      <td>610.695679</td>\n",
       "      <td>498.160004</td>\n",
       "    </tr>\n",
       "    <tr>\n",
       "      <td>2015</td>\n",
       "      <td>619.988213</td>\n",
       "      <td>793.960022</td>\n",
       "      <td>497.059998</td>\n",
       "    </tr>\n",
       "    <tr>\n",
       "      <td>2016</td>\n",
       "      <td>763.213214</td>\n",
       "      <td>835.739990</td>\n",
       "      <td>681.140015</td>\n",
       "    </tr>\n",
       "    <tr>\n",
       "      <td>2017</td>\n",
       "      <td>912.733791</td>\n",
       "      <td>1007.869995</td>\n",
       "      <td>807.770020</td>\n",
       "    </tr>\n",
       "  </tbody>\n",
       "</table>\n",
       "</div>"
      ],
      "text/plain": [
       "           media       maximo      minimo\n",
       "date                                     \n",
       "2005  139.018562   216.236237   87.582581\n",
       "2006  205.798448   255.080078  168.698700\n",
       "2007  269.644864   371.266266  219.559555\n",
       "2008  232.658667   343.007996  128.848846\n",
       "2009  220.064231   311.746735  141.516510\n",
       "2010  268.079627   313.698700  218.253250\n",
       "2011  284.771855   323.273285  237.677673\n",
       "2012  321.729969   384.409424  279.804810\n",
       "2013  442.563933   560.915894  351.786774\n",
       "2014  568.122366   610.695679  498.160004\n",
       "2015  619.988213   793.960022  497.059998\n",
       "2016  763.213214   835.739990  681.140015\n",
       "2017  912.733791  1007.869995  807.770020"
      ]
     },
     "execution_count": 88,
     "metadata": {},
     "output_type": "execute_result"
    }
   ],
   "source": [
    "by_year['GOOGL.Adjusted'].agg(media=np.mean,maximo=np.max,minimo=np.min)   "
   ]
  },
  {
   "cell_type": "markdown",
   "metadata": {},
   "source": [
    "##### Media, Max y Min de Ajusted por Mes:"
   ]
  },
  {
   "cell_type": "code",
   "execution_count": 89,
   "metadata": {
    "scrolled": false
   },
   "outputs": [
    {
     "data": {
      "text/html": [
       "<div>\n",
       "<style scoped>\n",
       "    .dataframe tbody tr th:only-of-type {\n",
       "        vertical-align: middle;\n",
       "    }\n",
       "\n",
       "    .dataframe tbody tr th {\n",
       "        vertical-align: top;\n",
       "    }\n",
       "\n",
       "    .dataframe thead th {\n",
       "        text-align: right;\n",
       "    }\n",
       "</style>\n",
       "<table border=\"1\" class=\"dataframe\">\n",
       "  <thead>\n",
       "    <tr style=\"text-align: right;\">\n",
       "      <th></th>\n",
       "      <th>media</th>\n",
       "      <th>maximo</th>\n",
       "      <th>minimo</th>\n",
       "    </tr>\n",
       "    <tr>\n",
       "      <th>date</th>\n",
       "      <th></th>\n",
       "      <th></th>\n",
       "      <th></th>\n",
       "    </tr>\n",
       "  </thead>\n",
       "  <tbody>\n",
       "    <tr>\n",
       "      <td>01</td>\n",
       "      <td>380.545201</td>\n",
       "      <td>858.450012</td>\n",
       "      <td>88.648651</td>\n",
       "    </tr>\n",
       "    <tr>\n",
       "      <td>02</td>\n",
       "      <td>378.650892</td>\n",
       "      <td>851.359985</td>\n",
       "      <td>93.028030</td>\n",
       "    </tr>\n",
       "    <tr>\n",
       "      <td>03</td>\n",
       "      <td>380.144503</td>\n",
       "      <td>872.369995</td>\n",
       "      <td>87.582581</td>\n",
       "    </tr>\n",
       "    <tr>\n",
       "      <td>04</td>\n",
       "      <td>380.054342</td>\n",
       "      <td>924.520020</td>\n",
       "      <td>90.110107</td>\n",
       "    </tr>\n",
       "    <tr>\n",
       "      <td>05</td>\n",
       "      <td>391.424154</td>\n",
       "      <td>996.169983</td>\n",
       "      <td>111.256256</td>\n",
       "    </tr>\n",
       "    <tr>\n",
       "      <td>06</td>\n",
       "      <td>394.117562</td>\n",
       "      <td>1004.280029</td>\n",
       "      <td>137.537537</td>\n",
       "    </tr>\n",
       "    <tr>\n",
       "      <td>07</td>\n",
       "      <td>404.966454</td>\n",
       "      <td>998.309998</td>\n",
       "      <td>144.024017</td>\n",
       "    </tr>\n",
       "    <tr>\n",
       "      <td>08</td>\n",
       "      <td>410.101974</td>\n",
       "      <td>955.239990</td>\n",
       "      <td>137.142136</td>\n",
       "    </tr>\n",
       "    <tr>\n",
       "      <td>09</td>\n",
       "      <td>414.207309</td>\n",
       "      <td>973.719971</td>\n",
       "      <td>143.268265</td>\n",
       "    </tr>\n",
       "    <tr>\n",
       "      <td>10</td>\n",
       "      <td>406.371028</td>\n",
       "      <td>1007.869995</td>\n",
       "      <td>148.218216</td>\n",
       "    </tr>\n",
       "    <tr>\n",
       "      <td>11</td>\n",
       "      <td>396.273474</td>\n",
       "      <td>811.979980</td>\n",
       "      <td>128.848846</td>\n",
       "    </tr>\n",
       "    <tr>\n",
       "      <td>12</td>\n",
       "      <td>405.369156</td>\n",
       "      <td>817.890015</td>\n",
       "      <td>133.128128</td>\n",
       "    </tr>\n",
       "  </tbody>\n",
       "</table>\n",
       "</div>"
      ],
      "text/plain": [
       "           media       maximo      minimo\n",
       "date                                     \n",
       "01    380.545201   858.450012   88.648651\n",
       "02    378.650892   851.359985   93.028030\n",
       "03    380.144503   872.369995   87.582581\n",
       "04    380.054342   924.520020   90.110107\n",
       "05    391.424154   996.169983  111.256256\n",
       "06    394.117562  1004.280029  137.537537\n",
       "07    404.966454   998.309998  144.024017\n",
       "08    410.101974   955.239990  137.142136\n",
       "09    414.207309   973.719971  143.268265\n",
       "10    406.371028  1007.869995  148.218216\n",
       "11    396.273474   811.979980  128.848846\n",
       "12    405.369156   817.890015  133.128128"
      ]
     },
     "execution_count": 89,
     "metadata": {},
     "output_type": "execute_result"
    }
   ],
   "source": [
    "by_month['GOOGL.Adjusted'].agg(media=np.mean,maximo=np.max,minimo=np.min)   "
   ]
  },
  {
   "cell_type": "markdown",
   "metadata": {},
   "source": [
    "### 5. Pintar la serie temporal del valor de cierre:"
   ]
  },
  {
   "cell_type": "code",
   "execution_count": 90,
   "metadata": {},
   "outputs": [],
   "source": [
    "import matplotlib.pyplot as plt"
   ]
  },
  {
   "cell_type": "code",
   "execution_count": 93,
   "metadata": {},
   "outputs": [
    {
     "data": {
      "text/plain": [
       "<matplotlib.axes._subplots.AxesSubplot at 0x227014d1a88>"
      ]
     },
     "execution_count": 93,
     "metadata": {},
     "output_type": "execute_result"
    },
    {
     "data": {
      "image/png": "[encoded data removed]",
      "text/plain": [
       "<Figure size 432x288 with 1 Axes>"
      ]
     },
     "metadata": {
      "needs_background": "light"
     },
     "output_type": "display_data"
    }
   ],
   "source": [
    "ordered_df.plot(x='date', y='GOOGL.Close')"
   ]
  },
  {
   "cell_type": "markdown",
   "metadata": {},
   "source": [
    "# EJERCICIO 6 - Panda Dataframes"
   ]
  },
  {
   "cell_type": "markdown",
   "metadata": {},
   "source": [
    "### 1. Leer el fichero de tipo json:"
   ]
  },
  {
   "cell_type": "code",
   "execution_count": 123,
   "metadata": {},
   "outputs": [],
   "source": [
    "kpis = pd.read_json(\"files/kpis_marca.json\").set_index('VARIABLE')"
   ]
  },
  {
   "cell_type": "code",
   "execution_count": 151,
   "metadata": {},
   "outputs": [],
   "source": [
    "kpis = kpis.sort_values(['VARIABLE', 'MARCA']) #por limipieza"
   ]
  },
  {
   "cell_type": "code",
   "execution_count": 152,
   "metadata": {},
   "outputs": [
    {
     "data": {
      "text/html": [
       "<div>\n",
       "<style scoped>\n",
       "    .dataframe tbody tr th:only-of-type {\n",
       "        vertical-align: middle;\n",
       "    }\n",
       "\n",
       "    .dataframe tbody tr th {\n",
       "        vertical-align: top;\n",
       "    }\n",
       "\n",
       "    .dataframe thead th {\n",
       "        text-align: right;\n",
       "    }\n",
       "</style>\n",
       "<table border=\"1\" class=\"dataframe\">\n",
       "  <thead>\n",
       "    <tr style=\"text-align: right;\">\n",
       "      <th></th>\n",
       "      <th>MARCA</th>\n",
       "      <th>X2010</th>\n",
       "      <th>X2011</th>\n",
       "      <th>X2012</th>\n",
       "    </tr>\n",
       "    <tr>\n",
       "      <th>VARIABLE</th>\n",
       "      <th></th>\n",
       "      <th></th>\n",
       "      <th></th>\n",
       "      <th></th>\n",
       "    </tr>\n",
       "  </thead>\n",
       "  <tbody>\n",
       "    <tr>\n",
       "      <td>Acts_responsibly_to_protect_the_environment_Clientes</td>\n",
       "      <td>Marca_1</td>\n",
       "      <td>62.7502</td>\n",
       "      <td>70.8048</td>\n",
       "      <td>64.7665</td>\n",
       "    </tr>\n",
       "    <tr>\n",
       "      <td>Acts_responsibly_to_protect_the_environment_Clientes</td>\n",
       "      <td>Marca_2</td>\n",
       "      <td>70.9782</td>\n",
       "      <td>69.2172</td>\n",
       "      <td>55.8536</td>\n",
       "    </tr>\n",
       "    <tr>\n",
       "      <td>Acts_responsibly_to_protect_the_environment_Clientes</td>\n",
       "      <td>Marca_3</td>\n",
       "      <td>69.4912</td>\n",
       "      <td>77.5783</td>\n",
       "      <td>60.7062</td>\n",
       "    </tr>\n",
       "    <tr>\n",
       "      <td>Acts_responsibly_to_protect_the_environment_Clientes</td>\n",
       "      <td>Marca_5</td>\n",
       "      <td>68.5990</td>\n",
       "      <td>71.0165</td>\n",
       "      <td>68.2326</td>\n",
       "    </tr>\n",
       "    <tr>\n",
       "      <td>Acts_responsibly_to_protect_the_environment_Clientes</td>\n",
       "      <td>Marca_6</td>\n",
       "      <td>69.7886</td>\n",
       "      <td>71.7573</td>\n",
       "      <td>63.5781</td>\n",
       "    </tr>\n",
       "    <tr>\n",
       "      <td>...</td>\n",
       "      <td>...</td>\n",
       "      <td>...</td>\n",
       "      <td>...</td>\n",
       "      <td>...</td>\n",
       "    </tr>\n",
       "    <tr>\n",
       "      <td>The_number_of_additional_health_care_coverage_of_health_policy_is_sufficient_Publico_General</td>\n",
       "      <td>Marca_1</td>\n",
       "      <td>61.7589</td>\n",
       "      <td>65.1954</td>\n",
       "      <td>62.7858</td>\n",
       "    </tr>\n",
       "    <tr>\n",
       "      <td>The_number_of_additional_health_care_coverage_of_health_policy_is_sufficient_Publico_General</td>\n",
       "      <td>Marca_2</td>\n",
       "      <td>58.9832</td>\n",
       "      <td>61.8087</td>\n",
       "      <td>59.8149</td>\n",
       "    </tr>\n",
       "    <tr>\n",
       "      <td>The_number_of_additional_health_care_coverage_of_health_policy_is_sufficient_Publico_General</td>\n",
       "      <td>Marca_3</td>\n",
       "      <td>59.2806</td>\n",
       "      <td>67.6297</td>\n",
       "      <td>63.1820</td>\n",
       "    </tr>\n",
       "    <tr>\n",
       "      <td>The_number_of_additional_health_care_coverage_of_health_policy_is_sufficient_Publico_General</td>\n",
       "      <td>Marca_5</td>\n",
       "      <td>62.8494</td>\n",
       "      <td>69.9581</td>\n",
       "      <td>63.3800</td>\n",
       "    </tr>\n",
       "    <tr>\n",
       "      <td>The_number_of_additional_health_care_coverage_of_health_policy_is_sufficient_Publico_General</td>\n",
       "      <td>Marca_6</td>\n",
       "      <td>63.5433</td>\n",
       "      <td>66.9947</td>\n",
       "      <td>63.4791</td>\n",
       "    </tr>\n",
       "  </tbody>\n",
       "</table>\n",
       "<p>380 rows × 4 columns</p>\n",
       "</div>"
      ],
      "text/plain": [
       "                                                      MARCA    X2010    X2011  \\\n",
       "VARIABLE                                                                        \n",
       "Acts_responsibly_to_protect_the_environment_Cli...  Marca_1  62.7502  70.8048   \n",
       "Acts_responsibly_to_protect_the_environment_Cli...  Marca_2  70.9782  69.2172   \n",
       "Acts_responsibly_to_protect_the_environment_Cli...  Marca_3  69.4912  77.5783   \n",
       "Acts_responsibly_to_protect_the_environment_Cli...  Marca_5  68.5990  71.0165   \n",
       "Acts_responsibly_to_protect_the_environment_Cli...  Marca_6  69.7886  71.7573   \n",
       "...                                                     ...      ...      ...   \n",
       "The_number_of_additional_health_care_coverage_o...  Marca_1  61.7589  65.1954   \n",
       "The_number_of_additional_health_care_coverage_o...  Marca_2  58.9832  61.8087   \n",
       "The_number_of_additional_health_care_coverage_o...  Marca_3  59.2806  67.6297   \n",
       "The_number_of_additional_health_care_coverage_o...  Marca_5  62.8494  69.9581   \n",
       "The_number_of_additional_health_care_coverage_o...  Marca_6  63.5433  66.9947   \n",
       "\n",
       "                                                      X2012  \n",
       "VARIABLE                                                     \n",
       "Acts_responsibly_to_protect_the_environment_Cli...  64.7665  \n",
       "Acts_responsibly_to_protect_the_environment_Cli...  55.8536  \n",
       "Acts_responsibly_to_protect_the_environment_Cli...  60.7062  \n",
       "Acts_responsibly_to_protect_the_environment_Cli...  68.2326  \n",
       "Acts_responsibly_to_protect_the_environment_Cli...  63.5781  \n",
       "...                                                     ...  \n",
       "The_number_of_additional_health_care_coverage_o...  62.7858  \n",
       "The_number_of_additional_health_care_coverage_o...  59.8149  \n",
       "The_number_of_additional_health_care_coverage_o...  63.1820  \n",
       "The_number_of_additional_health_care_coverage_o...  63.3800  \n",
       "The_number_of_additional_health_care_coverage_o...  63.4791  \n",
       "\n",
       "[380 rows x 4 columns]"
      ]
     },
     "execution_count": 152,
     "metadata": {},
     "output_type": "execute_result"
    }
   ],
   "source": [
    "kpis"
   ]
  },
  {
   "cell_type": "markdown",
   "metadata": {},
   "source": [
    "### 2. Para cada año y variable calcular la cuota de mercado y conseguir un DataFrame:"
   ]
  },
  {
   "cell_type": "code",
   "execution_count": 153,
   "metadata": {},
   "outputs": [],
   "source": [
    "total_variable = kpis.groupby(kpis.index).sum()"
   ]
  },
  {
   "cell_type": "code",
   "execution_count": 127,
   "metadata": {},
   "outputs": [
    {
     "data": {
      "text/html": [
       "<div>\n",
       "<style scoped>\n",
       "    .dataframe tbody tr th:only-of-type {\n",
       "        vertical-align: middle;\n",
       "    }\n",
       "\n",
       "    .dataframe tbody tr th {\n",
       "        vertical-align: top;\n",
       "    }\n",
       "\n",
       "    .dataframe thead th {\n",
       "        text-align: right;\n",
       "    }\n",
       "</style>\n",
       "<table border=\"1\" class=\"dataframe\">\n",
       "  <thead>\n",
       "    <tr style=\"text-align: right;\">\n",
       "      <th></th>\n",
       "      <th>X2010</th>\n",
       "      <th>X2011</th>\n",
       "      <th>X2012</th>\n",
       "    </tr>\n",
       "    <tr>\n",
       "      <th>VARIABLE</th>\n",
       "      <th></th>\n",
       "      <th></th>\n",
       "      <th></th>\n",
       "    </tr>\n",
       "  </thead>\n",
       "  <tbody>\n",
       "    <tr>\n",
       "      <td>Acts_responsibly_to_protect_the_environment_Clientes</td>\n",
       "      <td>341.6072</td>\n",
       "      <td>360.3741</td>\n",
       "      <td>313.1370</td>\n",
       "    </tr>\n",
       "    <tr>\n",
       "      <td>Acts_responsibly_to_protect_the_environment_Publico_General</td>\n",
       "      <td>296.8990</td>\n",
       "      <td>321.6379</td>\n",
       "      <td>285.7052</td>\n",
       "    </tr>\n",
       "    <tr>\n",
       "      <td>Adapts_quickly_to_change_Clientes</td>\n",
       "      <td>350.4299</td>\n",
       "      <td>369.0528</td>\n",
       "      <td>338.3899</td>\n",
       "    </tr>\n",
       "    <tr>\n",
       "      <td>Adapts_quickly_to_change_Publico_General</td>\n",
       "      <td>309.1912</td>\n",
       "      <td>339.2068</td>\n",
       "      <td>308.8786</td>\n",
       "    </tr>\n",
       "    <tr>\n",
       "      <td>Behaves_ethically_Clientes</td>\n",
       "      <td>359.6492</td>\n",
       "      <td>378.1548</td>\n",
       "      <td>349.6794</td>\n",
       "    </tr>\n",
       "    <tr>\n",
       "      <td>...</td>\n",
       "      <td>...</td>\n",
       "      <td>...</td>\n",
       "      <td>...</td>\n",
       "    </tr>\n",
       "    <tr>\n",
       "      <td>Stands_behind_its_products_and_services_Publico_General</td>\n",
       "      <td>317.1217</td>\n",
       "      <td>349.4730</td>\n",
       "      <td>325.6149</td>\n",
       "    </tr>\n",
       "    <tr>\n",
       "      <td>Supports_good_causes_Clientes</td>\n",
       "      <td>347.5551</td>\n",
       "      <td>358.6808</td>\n",
       "      <td>327.0013</td>\n",
       "    </tr>\n",
       "    <tr>\n",
       "      <td>Supports_good_causes_Publico_General</td>\n",
       "      <td>304.1355</td>\n",
       "      <td>331.3749</td>\n",
       "      <td>297.8862</td>\n",
       "    </tr>\n",
       "    <tr>\n",
       "      <td>The_number_of_additional_health_care_coverage_of_health_policy_is_sufficient_Clientes</td>\n",
       "      <td>346.4646</td>\n",
       "      <td>362.4909</td>\n",
       "      <td>343.0443</td>\n",
       "    </tr>\n",
       "    <tr>\n",
       "      <td>The_number_of_additional_health_care_coverage_of_health_policy_is_sufficient_Publico_General</td>\n",
       "      <td>306.4154</td>\n",
       "      <td>331.5866</td>\n",
       "      <td>312.6418</td>\n",
       "    </tr>\n",
       "  </tbody>\n",
       "</table>\n",
       "<p>75 rows × 3 columns</p>\n",
       "</div>"
      ],
      "text/plain": [
       "                                                       X2010     X2011  \\\n",
       "VARIABLE                                                                 \n",
       "Acts_responsibly_to_protect_the_environment_Cli...  341.6072  360.3741   \n",
       "Acts_responsibly_to_protect_the_environment_Pub...  296.8990  321.6379   \n",
       "Adapts_quickly_to_change_Clientes                   350.4299  369.0528   \n",
       "Adapts_quickly_to_change_Publico_General            309.1912  339.2068   \n",
       "Behaves_ethically_Clientes                          359.6492  378.1548   \n",
       "...                                                      ...       ...   \n",
       "Stands_behind_its_products_and_services_Publico...  317.1217  349.4730   \n",
       "Supports_good_causes_Clientes                       347.5551  358.6808   \n",
       "Supports_good_causes_Publico_General                304.1355  331.3749   \n",
       "The_number_of_additional_health_care_coverage_o...  346.4646  362.4909   \n",
       "The_number_of_additional_health_care_coverage_o...  306.4154  331.5866   \n",
       "\n",
       "                                                       X2012  \n",
       "VARIABLE                                                      \n",
       "Acts_responsibly_to_protect_the_environment_Cli...  313.1370  \n",
       "Acts_responsibly_to_protect_the_environment_Pub...  285.7052  \n",
       "Adapts_quickly_to_change_Clientes                   338.3899  \n",
       "Adapts_quickly_to_change_Publico_General            308.8786  \n",
       "Behaves_ethically_Clientes                          349.6794  \n",
       "...                                                      ...  \n",
       "Stands_behind_its_products_and_services_Publico...  325.6149  \n",
       "Supports_good_causes_Clientes                       327.0013  \n",
       "Supports_good_causes_Publico_General                297.8862  \n",
       "The_number_of_additional_health_care_coverage_o...  343.0443  \n",
       "The_number_of_additional_health_care_coverage_o...  312.6418  \n",
       "\n",
       "[75 rows x 3 columns]"
      ]
     },
     "execution_count": 127,
     "metadata": {},
     "output_type": "execute_result"
    }
   ],
   "source": [
    "total_variable"
   ]
  },
  {
   "cell_type": "code",
   "execution_count": 155,
   "metadata": {},
   "outputs": [],
   "source": [
    "kpis[['X2010', 'X2011', 'X2012']] = kpis[['X2010', 'X2011', 'X2012']] / total_variable"
   ]
  },
  {
   "cell_type": "code",
   "execution_count": 156,
   "metadata": {},
   "outputs": [
    {
     "data": {
      "text/html": [
       "<div>\n",
       "<style scoped>\n",
       "    .dataframe tbody tr th:only-of-type {\n",
       "        vertical-align: middle;\n",
       "    }\n",
       "\n",
       "    .dataframe tbody tr th {\n",
       "        vertical-align: top;\n",
       "    }\n",
       "\n",
       "    .dataframe thead th {\n",
       "        text-align: right;\n",
       "    }\n",
       "</style>\n",
       "<table border=\"1\" class=\"dataframe\">\n",
       "  <thead>\n",
       "    <tr style=\"text-align: right;\">\n",
       "      <th></th>\n",
       "      <th>MARCA</th>\n",
       "      <th>X2010</th>\n",
       "      <th>X2011</th>\n",
       "      <th>X2012</th>\n",
       "    </tr>\n",
       "    <tr>\n",
       "      <th>VARIABLE</th>\n",
       "      <th></th>\n",
       "      <th></th>\n",
       "      <th></th>\n",
       "      <th></th>\n",
       "    </tr>\n",
       "  </thead>\n",
       "  <tbody>\n",
       "    <tr>\n",
       "      <td>Acts_responsibly_to_protect_the_environment_Clientes</td>\n",
       "      <td>Marca_1</td>\n",
       "      <td>0.183691</td>\n",
       "      <td>0.196476</td>\n",
       "      <td>0.206831</td>\n",
       "    </tr>\n",
       "    <tr>\n",
       "      <td>Acts_responsibly_to_protect_the_environment_Clientes</td>\n",
       "      <td>Marca_2</td>\n",
       "      <td>0.207777</td>\n",
       "      <td>0.192070</td>\n",
       "      <td>0.178368</td>\n",
       "    </tr>\n",
       "    <tr>\n",
       "      <td>Acts_responsibly_to_protect_the_environment_Clientes</td>\n",
       "      <td>Marca_3</td>\n",
       "      <td>0.203424</td>\n",
       "      <td>0.215272</td>\n",
       "      <td>0.193865</td>\n",
       "    </tr>\n",
       "    <tr>\n",
       "      <td>Acts_responsibly_to_protect_the_environment_Clientes</td>\n",
       "      <td>Marca_5</td>\n",
       "      <td>0.200813</td>\n",
       "      <td>0.197063</td>\n",
       "      <td>0.217900</td>\n",
       "    </tr>\n",
       "    <tr>\n",
       "      <td>Acts_responsibly_to_protect_the_environment_Clientes</td>\n",
       "      <td>Marca_6</td>\n",
       "      <td>0.204295</td>\n",
       "      <td>0.199119</td>\n",
       "      <td>0.203036</td>\n",
       "    </tr>\n",
       "    <tr>\n",
       "      <td>...</td>\n",
       "      <td>...</td>\n",
       "      <td>...</td>\n",
       "      <td>...</td>\n",
       "      <td>...</td>\n",
       "    </tr>\n",
       "    <tr>\n",
       "      <td>The_number_of_additional_health_care_coverage_of_health_policy_is_sufficient_Publico_General</td>\n",
       "      <td>Marca_1</td>\n",
       "      <td>0.201553</td>\n",
       "      <td>0.196617</td>\n",
       "      <td>0.200823</td>\n",
       "    </tr>\n",
       "    <tr>\n",
       "      <td>The_number_of_additional_health_care_coverage_of_health_policy_is_sufficient_Publico_General</td>\n",
       "      <td>Marca_2</td>\n",
       "      <td>0.192494</td>\n",
       "      <td>0.186403</td>\n",
       "      <td>0.191321</td>\n",
       "    </tr>\n",
       "    <tr>\n",
       "      <td>The_number_of_additional_health_care_coverage_of_health_policy_is_sufficient_Publico_General</td>\n",
       "      <td>Marca_3</td>\n",
       "      <td>0.193465</td>\n",
       "      <td>0.203958</td>\n",
       "      <td>0.202091</td>\n",
       "    </tr>\n",
       "    <tr>\n",
       "      <td>The_number_of_additional_health_care_coverage_of_health_policy_is_sufficient_Publico_General</td>\n",
       "      <td>Marca_5</td>\n",
       "      <td>0.205112</td>\n",
       "      <td>0.210980</td>\n",
       "      <td>0.202724</td>\n",
       "    </tr>\n",
       "    <tr>\n",
       "      <td>The_number_of_additional_health_care_coverage_of_health_policy_is_sufficient_Publico_General</td>\n",
       "      <td>Marca_6</td>\n",
       "      <td>0.207376</td>\n",
       "      <td>0.202043</td>\n",
       "      <td>0.203041</td>\n",
       "    </tr>\n",
       "  </tbody>\n",
       "</table>\n",
       "<p>380 rows × 4 columns</p>\n",
       "</div>"
      ],
      "text/plain": [
       "                                                      MARCA     X2010  \\\n",
       "VARIABLE                                                                \n",
       "Acts_responsibly_to_protect_the_environment_Cli...  Marca_1  0.183691   \n",
       "Acts_responsibly_to_protect_the_environment_Cli...  Marca_2  0.207777   \n",
       "Acts_responsibly_to_protect_the_environment_Cli...  Marca_3  0.203424   \n",
       "Acts_responsibly_to_protect_the_environment_Cli...  Marca_5  0.200813   \n",
       "Acts_responsibly_to_protect_the_environment_Cli...  Marca_6  0.204295   \n",
       "...                                                     ...       ...   \n",
       "The_number_of_additional_health_care_coverage_o...  Marca_1  0.201553   \n",
       "The_number_of_additional_health_care_coverage_o...  Marca_2  0.192494   \n",
       "The_number_of_additional_health_care_coverage_o...  Marca_3  0.193465   \n",
       "The_number_of_additional_health_care_coverage_o...  Marca_5  0.205112   \n",
       "The_number_of_additional_health_care_coverage_o...  Marca_6  0.207376   \n",
       "\n",
       "                                                       X2011     X2012  \n",
       "VARIABLE                                                                \n",
       "Acts_responsibly_to_protect_the_environment_Cli...  0.196476  0.206831  \n",
       "Acts_responsibly_to_protect_the_environment_Cli...  0.192070  0.178368  \n",
       "Acts_responsibly_to_protect_the_environment_Cli...  0.215272  0.193865  \n",
       "Acts_responsibly_to_protect_the_environment_Cli...  0.197063  0.217900  \n",
       "Acts_responsibly_to_protect_the_environment_Cli...  0.199119  0.203036  \n",
       "...                                                      ...       ...  \n",
       "The_number_of_additional_health_care_coverage_o...  0.196617  0.200823  \n",
       "The_number_of_additional_health_care_coverage_o...  0.186403  0.191321  \n",
       "The_number_of_additional_health_care_coverage_o...  0.203958  0.202091  \n",
       "The_number_of_additional_health_care_coverage_o...  0.210980  0.202724  \n",
       "The_number_of_additional_health_care_coverage_o...  0.202043  0.203041  \n",
       "\n",
       "[380 rows x 4 columns]"
      ]
     },
     "execution_count": 156,
     "metadata": {},
     "output_type": "execute_result"
    }
   ],
   "source": [
    "kpis"
   ]
  },
  {
   "cell_type": "markdown",
   "metadata": {},
   "source": []
  },
  {
   "cell_type": "code",
   "execution_count": null,
   "metadata": {},
   "outputs": [],
   "source": []
  }
 ],
 "metadata": {
  "kernelspec": {
   "display_name": "Python 3",
   "language": "python",
   "name": "python3"
  },
  "language_info": {
   "codemirror_mode": {
    "name": "ipython",
    "version": 3
   },
   "file_extension": ".py",
   "mimetype": "text/x-python",
   "name": "python",
   "nbconvert_exporter": "python",
   "pygments_lexer": "ipython3",
   "version": "3.7.4"
  }
 },
 "nbformat": 4,
 "nbformat_minor": 2
}
