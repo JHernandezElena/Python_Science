{
 "cells": [
  {
   "cell_type": "markdown",
   "metadata": {},
   "source": [
    "# Control del flujo\n",
    "En programación hablamos de \"control de flujo\" o estructura de control, a un bloque de código que permite agrupar instrucciones de manera controlada. Principalmente podemos hablar de dos tipos:\n",
    "\n",
    "* Estructuras de control condicionales\n",
    "* Estructuras de control iterativas\n",
    "\n",
    "\n"
   ]
  },
  {
   "cell_type": "markdown",
   "metadata": {},
   "source": [
    "![](img/crash_course.png)"
   ]
  },
  {
   "cell_type": "markdown",
   "metadata": {},
   "source": [
    "### Estructuras de control de flujo condicionales\n",
    "Una sentencia condicional es una instrucción o grupo de instrucciones que se pueden ejecutar o no en función del valor de una condición."
   ]
  },
  {
   "cell_type": "code",
   "execution_count": null,
   "metadata": {},
   "outputs": [],
   "source": [
    "x = 25"
   ]
  },
  {
   "cell_type": "code",
   "execution_count": null,
   "metadata": {},
   "outputs": [],
   "source": [
    "if x<20:\n",
    "    print(\"x es menor que 20\")\n",
    "else: \n",
    "    print(\"x es mayor o igual que 20\")"
   ]
  },
  {
   "cell_type": "markdown",
   "metadata": {},
   "source": [
    "En Python las estructuras de flujo no necesitan llaves o paréntesis si no identación, que no es más que una sangría (https://www.python.org/dev/peps/pep-0008/#indentation)"
   ]
  },
  {
   "cell_type": "code",
   "execution_count": null,
   "metadata": {},
   "outputs": [],
   "source": [
    "if x<20:\n",
    "    print(\"x es menor que 20\")\n",
    "    y = 1\n",
    "elif x<30: \n",
    "    print(\"x es menos que 30 y mayor que 20\")\n",
    "    y = 2\n",
    "else:\n",
    "    print(\"x es mayor o igual que 30\")\n",
    "    y = 3"
   ]
  },
  {
   "cell_type": "code",
   "execution_count": null,
   "metadata": {},
   "outputs": [],
   "source": [
    "y"
   ]
  },
  {
   "cell_type": "markdown",
   "metadata": {},
   "source": [
    "### Estructuras de control iterativas\n",
    "Las estructuras iterativas nos permiten ejecutar un mismo código de manera repetida mientras se cumpla una condición."
   ]
  },
  {
   "cell_type": "markdown",
   "metadata": {},
   "source": [
    "#### Bucles `for`\n",
    "Nos permite ejecutar un código de manera repetitiva recorriendo un objeto de tipo secuencial o generador"
   ]
  },
  {
   "cell_type": "code",
   "execution_count": null,
   "metadata": {},
   "outputs": [],
   "source": [
    "for i in range(20):\n",
    "    if i %2 == 0:\n",
    "        print(\"El número {} es par\".format(i))"
   ]
  },
  {
   "cell_type": "markdown",
   "metadata": {},
   "source": [
    "(Hemos usado `range` que es un generado de números)"
   ]
  },
  {
   "cell_type": "code",
   "execution_count": null,
   "metadata": {},
   "outputs": [],
   "source": [
    "ciudades = ['Madrid', 'Barcelona', 'Valencia', 'Sevilla', 'Zaragoza',\n",
    "            'Málaga', 'Murcia', 'Palma', 'Bilbao', 'Alicante',\n",
    "            'Córdoba', 'Valladolid', 'Vitoria']"
   ]
  },
  {
   "cell_type": "code",
   "execution_count": null,
   "metadata": {},
   "outputs": [],
   "source": [
    "nuevas = ['INICIO']"
   ]
  },
  {
   "cell_type": "code",
   "execution_count": null,
   "metadata": {},
   "outputs": [],
   "source": [
    "for i in ciudades:\n",
    "    print(\"Procesando la ciudad {}\".format(i))\n",
    "    nuevas.append((i,len(i)))"
   ]
  },
  {
   "cell_type": "code",
   "execution_count": null,
   "metadata": {},
   "outputs": [],
   "source": [
    "nuevas"
   ]
  },
  {
   "cell_type": "markdown",
   "metadata": {},
   "source": [
    "En Python también existe y es especialmente útil las listas por compresión (*List Comprehensions*)."
   ]
  },
  {
   "cell_type": "code",
   "execution_count": null,
   "metadata": {},
   "outputs": [],
   "source": [
    "[i.upper() for i in ciudades]"
   ]
  },
  {
   "cell_type": "code",
   "execution_count": null,
   "metadata": {},
   "outputs": [],
   "source": [
    "[i for i in ciudades if 'b' in i.lower()]"
   ]
  },
  {
   "cell_type": "markdown",
   "metadata": {},
   "source": [
    "#### Bucle `while`\n",
    "En bucle de tipo `while` ejecuta código siempre que se cumpla una condición (Hay que tener cuidado en no cometer el error de hacer un bucle infinito)"
   ]
  },
  {
   "cell_type": "code",
   "execution_count": null,
   "metadata": {},
   "outputs": [],
   "source": [
    "anio = 2000"
   ]
  },
  {
   "cell_type": "code",
   "execution_count": null,
   "metadata": {},
   "outputs": [],
   "source": [
    "while anio <= 2017:\n",
    "    print(anio)\n",
    "    anio += 1"
   ]
  },
  {
   "cell_type": "markdown",
   "metadata": {},
   "source": [
    "Tanto en los bucles `for` como en los bucles `while` podemos usar las sentencias `continue` y `break` para iterar o romper el bucle."
   ]
  },
  {
   "cell_type": "code",
   "execution_count": null,
   "metadata": {},
   "outputs": [],
   "source": [
    "anio = 2000\n",
    "while anio <= 2017:\n",
    "    if anio % 2 ==0:\n",
    "        anio += 1\n",
    "        continue\n",
    "    print(anio)\n",
    "    anio += 1\n",
    "    \n",
    "print(\"\\n\\nEstamos fuera del bucle\")    "
   ]
  },
  {
   "cell_type": "code",
   "execution_count": null,
   "metadata": {},
   "outputs": [],
   "source": [
    "anio = 2000\n",
    "while anio <= 2017:\n",
    "    if anio % 2 ==0:\n",
    "        anio += 1\n",
    "        continue\n",
    "    if anio % 13 ==0:\n",
    "        print(\"El año {} es divisible por 13.\\nTerminamos el bucle :D\".format(anio))\n",
    "        break\n",
    "    print(anio)\n",
    "    anio += 1\n",
    "    \n",
    "print(\"\\n\\nEstamos fuera del bucle\")"
   ]
  },
  {
   "cell_type": "markdown",
   "metadata": {},
   "source": [
    "# Funciones\n",
    "Las funciones nos ayudan a organizar nuestro código y poder reutilizarlo"
   ]
  },
  {
   "cell_type": "code",
   "execution_count": null,
   "metadata": {},
   "outputs": [],
   "source": [
    "def mi_funcion(x):\n",
    "    return (x +1) ** 2 "
   ]
  },
  {
   "cell_type": "code",
   "execution_count": null,
   "metadata": {},
   "outputs": [],
   "source": [
    "mi_funcion(2)"
   ]
  },
  {
   "cell_type": "code",
   "execution_count": null,
   "metadata": {},
   "outputs": [],
   "source": [
    "mi_funcion('aaa')"
   ]
  },
  {
   "cell_type": "code",
   "execution_count": null,
   "metadata": {},
   "outputs": [],
   "source": [
    "[mi_funcion(i) for i in range(4)]"
   ]
  },
  {
   "cell_type": "markdown",
   "metadata": {},
   "source": [
    "La función que definimos puede tener ningún, o varios argumentos y alguno de ellos puede tener valores por defecto."
   ]
  },
  {
   "cell_type": "code",
   "execution_count": null,
   "metadata": {},
   "outputs": [],
   "source": [
    "def hola_alumnos():\n",
    "    print(\"Hola Alumnos!!\")"
   ]
  },
  {
   "cell_type": "code",
   "execution_count": null,
   "metadata": {},
   "outputs": [],
   "source": [
    "hola_alumnos()"
   ]
  },
  {
   "cell_type": "code",
   "execution_count": null,
   "metadata": {},
   "outputs": [],
   "source": [
    "def check(x,y=100):\n",
    "    if x<=y:\n",
    "        print(\"{} es menor o igual que {}\".format(x,y))\n",
    "        return True\n",
    "    return False"
   ]
  },
  {
   "cell_type": "code",
   "execution_count": null,
   "metadata": {},
   "outputs": [],
   "source": [
    "valor = check(10)"
   ]
  },
  {
   "cell_type": "code",
   "execution_count": null,
   "metadata": {},
   "outputs": [],
   "source": [
    "valor"
   ]
  },
  {
   "cell_type": "code",
   "execution_count": null,
   "metadata": {},
   "outputs": [],
   "source": [
    "valor = check(1000)"
   ]
  },
  {
   "cell_type": "code",
   "execution_count": null,
   "metadata": {},
   "outputs": [],
   "source": [
    "valor"
   ]
  },
  {
   "cell_type": "code",
   "execution_count": null,
   "metadata": {},
   "outputs": [],
   "source": [
    "valor = check(1000,1E20)"
   ]
  },
  {
   "cell_type": "code",
   "execution_count": null,
   "metadata": {},
   "outputs": [],
   "source": [
    "valor"
   ]
  },
  {
   "cell_type": "markdown",
   "metadata": {},
   "source": [
    "# Leer y escribir (I/O)\n",
    "Veamos como leer y escribir en ficheros, la manera más básica en Python es usando `open`"
   ]
  },
  {
   "cell_type": "code",
   "execution_count": 1,
   "metadata": {},
   "outputs": [
    {
     "name": "stderr",
     "output_type": "stream",
     "text": [
      "'head' is not recognized as an internal or external command,\n",
      "operable program or batch file.\n"
     ]
    }
   ],
   "source": [
    "!head files/coches.txt"
   ]
  },
  {
   "cell_type": "code",
   "execution_count": 2,
   "metadata": {},
   "outputs": [],
   "source": [
    "f = open('files/coches.txt')"
   ]
  },
  {
   "cell_type": "code",
   "execution_count": 3,
   "metadata": {},
   "outputs": [
    {
     "data": {
      "text/plain": [
       "_io.TextIOWrapper"
      ]
     },
     "execution_count": 3,
     "metadata": {},
     "output_type": "execute_result"
    }
   ],
   "source": [
    "type(f)"
   ]
  },
  {
   "cell_type": "code",
   "execution_count": 4,
   "metadata": {},
   "outputs": [],
   "source": [
    "content = f.readlines()"
   ]
  },
  {
   "cell_type": "code",
   "execution_count": 5,
   "metadata": {},
   "outputs": [],
   "source": [
    "f.close()"
   ]
  },
  {
   "cell_type": "code",
   "execution_count": null,
   "metadata": {},
   "outputs": [],
   "source": [
    "len(content)"
   ]
  },
  {
   "cell_type": "code",
   "execution_count": null,
   "metadata": {},
   "outputs": [],
   "source": [
    "content[:10]"
   ]
  },
  {
   "cell_type": "code",
   "execution_count": null,
   "metadata": {},
   "outputs": [],
   "source": [
    "[i.strip() for i in content][:10]"
   ]
  },
  {
   "cell_type": "markdown",
   "metadata": {},
   "source": [
    "En Python la manera más adecuada de hacer lo anterior sería:"
   ]
  },
  {
   "cell_type": "code",
   "execution_count": 6,
   "metadata": {},
   "outputs": [],
   "source": [
    "with open(\"files/coches.txt\", \"r\") as f:\n",
    "    content = f.readlines()"
   ]
  },
  {
   "cell_type": "code",
   "execution_count": 7,
   "metadata": {},
   "outputs": [
    {
     "data": {
      "text/plain": [
       "['Volvo 142E\\n', 'Maserati Bora\\n', 'Ferrari Dino\\n', 'Ford Pantera L\\n']"
      ]
     },
     "execution_count": 7,
     "metadata": {},
     "output_type": "execute_result"
    }
   ],
   "source": [
    "content[-1:-5:-1]"
   ]
  },
  {
   "cell_type": "markdown",
   "metadata": {},
   "source": [
    "En este caso el fichero solo tenía un dato por fila, veamos como tratar con ficheros más complejos (aunque más tarde usaremos librerías específicas para esto)"
   ]
  },
  {
   "cell_type": "code",
   "execution_count": null,
   "metadata": {},
   "outputs": [],
   "source": [
    "!head files/iris.txt"
   ]
  },
  {
   "cell_type": "code",
   "execution_count": null,
   "metadata": {},
   "outputs": [],
   "source": [
    "f = open('files/iris.txt')"
   ]
  },
  {
   "cell_type": "code",
   "execution_count": null,
   "metadata": {},
   "outputs": [],
   "source": [
    "next(f)"
   ]
  },
  {
   "cell_type": "code",
   "execution_count": null,
   "metadata": {},
   "outputs": [],
   "source": [
    "f.close()"
   ]
  },
  {
   "cell_type": "code",
   "execution_count": 8,
   "metadata": {},
   "outputs": [],
   "source": [
    "with open('files/iris.txt') as f:\n",
    "    iris = [i.strip().split(\" \") for i in f]"
   ]
  },
  {
   "cell_type": "code",
   "execution_count": 9,
   "metadata": {},
   "outputs": [
    {
     "data": {
      "text/plain": [
       "[['5.1', '3.5', '1.4', '0.2', '\"setosa\"'],\n",
       " ['4.9', '3', '1.4', '0.2', '\"setosa\"'],\n",
       " ['4.7', '3.2', '1.3', '0.2', '\"setosa\"'],\n",
       " ['4.6', '3.1', '1.5', '0.2', '\"setosa\"'],\n",
       " ['5', '3.6', '1.4', '0.2', '\"setosa\"']]"
      ]
     },
     "execution_count": 9,
     "metadata": {},
     "output_type": "execute_result"
    }
   ],
   "source": [
    "iris[:5]"
   ]
  },
  {
   "cell_type": "code",
   "execution_count": 10,
   "metadata": {},
   "outputs": [
    {
     "data": {
      "text/plain": [
       "[(5.1, 3.5, 1.4, 0.2, 'setosa'),\n",
       " (4.9, 3.0, 1.4, 0.2, 'setosa'),\n",
       " (4.7, 3.2, 1.3, 0.2, 'setosa'),\n",
       " (4.6, 3.1, 1.5, 0.2, 'setosa'),\n",
       " (5.0, 3.6, 1.4, 0.2, 'setosa')]"
      ]
     },
     "execution_count": 10,
     "metadata": {},
     "output_type": "execute_result"
    }
   ],
   "source": [
    "[(\n",
    "    float(i[0]),\n",
    "    float(i[1]),\n",
    "    float(i[2]),\n",
    "    float(i[3]),\n",
    "    i[4].replace('\"','')\n",
    ") for i in iris][:5]"
   ]
  },
  {
   "cell_type": "markdown",
   "metadata": {},
   "source": [
    "Usando una función:"
   ]
  },
  {
   "cell_type": "code",
   "execution_count": 11,
   "metadata": {},
   "outputs": [],
   "source": [
    "def parsear_linea(x):\n",
    "    i = x.strip().split(\" \")\n",
    "    return (\n",
    "        float(i[0]),\n",
    "        float(i[1]),\n",
    "        float(i[2]),\n",
    "        float(i[3]),\n",
    "        i[4].replace('\"','')\n",
    "    )"
   ]
  },
  {
   "cell_type": "code",
   "execution_count": 12,
   "metadata": {},
   "outputs": [],
   "source": [
    "with open('files/iris.txt') as f:\n",
    "    iris = [parsear_linea(i) for i in f]"
   ]
  },
  {
   "cell_type": "code",
   "execution_count": 13,
   "metadata": {},
   "outputs": [
    {
     "data": {
      "text/plain": [
       "[(5.1, 3.5, 1.4, 0.2, 'setosa'),\n",
       " (4.9, 3.0, 1.4, 0.2, 'setosa'),\n",
       " (4.7, 3.2, 1.3, 0.2, 'setosa'),\n",
       " (4.6, 3.1, 1.5, 0.2, 'setosa'),\n",
       " (5.0, 3.6, 1.4, 0.2, 'setosa'),\n",
       " (5.4, 3.9, 1.7, 0.4, 'setosa'),\n",
       " (4.6, 3.4, 1.4, 0.3, 'setosa'),\n",
       " (5.0, 3.4, 1.5, 0.2, 'setosa'),\n",
       " (4.4, 2.9, 1.4, 0.2, 'setosa'),\n",
       " (4.9, 3.1, 1.5, 0.1, 'setosa')]"
      ]
     },
     "execution_count": 13,
     "metadata": {},
     "output_type": "execute_result"
    }
   ],
   "source": [
    "iris[:10]"
   ]
  },
  {
   "cell_type": "markdown",
   "metadata": {},
   "source": [
    "#### Ficheros JSON ([*JavaScript Object Notation*](https://es.wikipedia.org/wiki/JSON))"
   ]
  },
  {
   "cell_type": "code",
   "execution_count": 16,
   "metadata": {},
   "outputs": [],
   "source": [
    "import json"
   ]
  },
  {
   "cell_type": "code",
   "execution_count": null,
   "metadata": {},
   "outputs": [],
   "source": [
    "!head files/imdb.json"
   ]
  },
  {
   "cell_type": "code",
   "execution_count": 17,
   "metadata": {},
   "outputs": [],
   "source": [
    "with open('files/imdb.json') as f:\n",
    "    pelis = json.load(f)"
   ]
  },
  {
   "cell_type": "code",
   "execution_count": 18,
   "metadata": {},
   "outputs": [
    {
     "data": {
      "text/plain": [
       "[{'Actors': 'Mark Hamill, Harrison Ford, Carrie Fisher, Peter Cushing',\n",
       "  'Awards': 'Won 6 Oscars. Another 50 wins & 28 nominations.',\n",
       "  'BoxOffice': 'N/A',\n",
       "  'Country': 'USA',\n",
       "  'DVD': '21 Sep 2004',\n",
       "  'Director': 'George Lucas',\n",
       "  'Genre': 'Action, Adventure, Fantasy',\n",
       "  'Language': 'English',\n",
       "  'Metascore': '92',\n",
       "  'Plot': \"Luke Skywalker joins forces with a Jedi Knight, a cocky pilot, a Wookiee, and two droids to save the galaxy from the Empire's world-destroying battle-station, while also attempting to rescue Princess Leia from the evil Darth Vader.\",\n",
       "  'Poster': 'https://images-na.ssl-images-amazon.com/images/M/MV5BYTUwNTdiMzMtNThmNS00ODUzLThlMDMtMTM5Y2JkNWJjOGQ2XkEyXkFqcGdeQXVyNzQ1ODk3MTQ@._V1_SX300.jpg',\n",
       "  'Production': '20th Century Fox',\n",
       "  'Rated': 'PG',\n",
       "  'Ratings': [{'Source': 'Internet Movie Database', 'Value': '8.7/10'},\n",
       "   {'Source': 'Rotten Tomatoes', 'Value': '93%'},\n",
       "   {'Source': 'Metacritic', 'Value': '92/100'}],\n",
       "  'Released': '25 May 1977',\n",
       "  'Response': 'True',\n",
       "  'Runtime': '121 min',\n",
       "  'Title': 'Star Wars: Episode IV - A New Hope',\n",
       "  'Type': 'movie',\n",
       "  'Website': 'http://www.starwars.com/episode-iv/',\n",
       "  'Writer': 'George Lucas',\n",
       "  'Year': '1977',\n",
       "  'imdbID': 'tt0076759',\n",
       "  'imdbRating': '8.7',\n",
       "  'imdbVotes': '999,345'},\n",
       " {'Actors': 'Felicity Jones, Diego Luna, Alan Tudyk, Donnie Yen',\n",
       "  'Awards': 'Nominated for 2 Oscars. Another 20 wins & 78 nominations.',\n",
       "  'BoxOffice': '$532,171,696',\n",
       "  'Country': 'USA',\n",
       "  'DVD': '04 Apr 2017',\n",
       "  'Director': 'Gareth Edwards',\n",
       "  'Genre': 'Action, Adventure, Sci-Fi',\n",
       "  'Language': 'English',\n",
       "  'Metascore': '65',\n",
       "  'Plot': 'The Rebel Alliance makes a risky move to steal the plans for the Death Star, setting up the epic saga to follow.',\n",
       "  'Poster': 'https://images-na.ssl-images-amazon.com/images/M/MV5BMjEwMzMxODIzOV5BMl5BanBnXkFtZTgwNzg3OTAzMDI@._V1_SX300.jpg',\n",
       "  'Production': 'Walt Disney Pictures',\n",
       "  'Rated': 'PG-13',\n",
       "  'Ratings': [{'Source': 'Internet Movie Database', 'Value': '7.9/10'},\n",
       "   {'Source': 'Rotten Tomatoes', 'Value': '85%'},\n",
       "   {'Source': 'Metacritic', 'Value': '65/100'}],\n",
       "  'Released': '16 Dec 2016',\n",
       "  'Response': 'True',\n",
       "  'Runtime': '133 min',\n",
       "  'Title': 'Rogue One',\n",
       "  'Type': 'movie',\n",
       "  'Website': 'http://www.starwars.com/',\n",
       "  'Writer': 'Chris Weitz (screenplay), Tony Gilroy (screenplay), John Knoll (story by), Gary Whitta (story by), George Lucas (based on characters created by)',\n",
       "  'Year': '2016',\n",
       "  'imdbID': 'tt3748528',\n",
       "  'imdbRating': '7.9',\n",
       "  'imdbVotes': '359,487'}]"
      ]
     },
     "execution_count": 18,
     "metadata": {},
     "output_type": "execute_result"
    }
   ],
   "source": [
    "pelis"
   ]
  },
  {
   "cell_type": "code",
   "execution_count": 19,
   "metadata": {},
   "outputs": [
    {
     "data": {
      "text/plain": [
       "list"
      ]
     },
     "execution_count": 19,
     "metadata": {},
     "output_type": "execute_result"
    }
   ],
   "source": [
    "type(pelis)"
   ]
  },
  {
   "cell_type": "code",
   "execution_count": 20,
   "metadata": {},
   "outputs": [
    {
     "data": {
      "text/plain": [
       "2"
      ]
     },
     "execution_count": 20,
     "metadata": {},
     "output_type": "execute_result"
    }
   ],
   "source": [
    "len(pelis)"
   ]
  },
  {
   "cell_type": "code",
   "execution_count": 21,
   "metadata": {},
   "outputs": [
    {
     "data": {
      "text/plain": [
       "dict"
      ]
     },
     "execution_count": 21,
     "metadata": {},
     "output_type": "execute_result"
    }
   ],
   "source": [
    "type(pelis[1])"
   ]
  },
  {
   "cell_type": "code",
   "execution_count": 22,
   "metadata": {},
   "outputs": [],
   "source": [
    "peli_1 = pelis[1]"
   ]
  },
  {
   "cell_type": "code",
   "execution_count": 23,
   "metadata": {},
   "outputs": [
    {
     "data": {
      "text/plain": [
       "{'Actors': 'Felicity Jones, Diego Luna, Alan Tudyk, Donnie Yen',\n",
       " 'Awards': 'Nominated for 2 Oscars. Another 20 wins & 78 nominations.',\n",
       " 'BoxOffice': '$532,171,696',\n",
       " 'Country': 'USA',\n",
       " 'DVD': '04 Apr 2017',\n",
       " 'Director': 'Gareth Edwards',\n",
       " 'Genre': 'Action, Adventure, Sci-Fi',\n",
       " 'Language': 'English',\n",
       " 'Metascore': '65',\n",
       " 'Plot': 'The Rebel Alliance makes a risky move to steal the plans for the Death Star, setting up the epic saga to follow.',\n",
       " 'Poster': 'https://images-na.ssl-images-amazon.com/images/M/MV5BMjEwMzMxODIzOV5BMl5BanBnXkFtZTgwNzg3OTAzMDI@._V1_SX300.jpg',\n",
       " 'Production': 'Walt Disney Pictures',\n",
       " 'Rated': 'PG-13',\n",
       " 'Ratings': [{'Source': 'Internet Movie Database', 'Value': '7.9/10'},\n",
       "  {'Source': 'Rotten Tomatoes', 'Value': '85%'},\n",
       "  {'Source': 'Metacritic', 'Value': '65/100'}],\n",
       " 'Released': '16 Dec 2016',\n",
       " 'Response': 'True',\n",
       " 'Runtime': '133 min',\n",
       " 'Title': 'Rogue One',\n",
       " 'Type': 'movie',\n",
       " 'Website': 'http://www.starwars.com/',\n",
       " 'Writer': 'Chris Weitz (screenplay), Tony Gilroy (screenplay), John Knoll (story by), Gary Whitta (story by), George Lucas (based on characters created by)',\n",
       " 'Year': '2016',\n",
       " 'imdbID': 'tt3748528',\n",
       " 'imdbRating': '7.9',\n",
       " 'imdbVotes': '359,487'}"
      ]
     },
     "execution_count": 23,
     "metadata": {},
     "output_type": "execute_result"
    }
   ],
   "source": [
    "peli_1"
   ]
  },
  {
   "cell_type": "code",
   "execution_count": 24,
   "metadata": {},
   "outputs": [
    {
     "data": {
      "text/plain": [
       "dict_keys(['Actors', 'Awards', 'BoxOffice', 'Country', 'DVD', 'Director', 'Genre', 'Language', 'Metascore', 'Plot', 'Poster', 'Production', 'Rated', 'Ratings', 'Released', 'Response', 'Runtime', 'Title', 'Type', 'Website', 'Writer', 'Year', 'imdbID', 'imdbRating', 'imdbVotes'])"
      ]
     },
     "execution_count": 24,
     "metadata": {},
     "output_type": "execute_result"
    }
   ],
   "source": [
    "peli_1.keys()"
   ]
  },
  {
   "cell_type": "code",
   "execution_count": 25,
   "metadata": {},
   "outputs": [
    {
     "name": "stdout",
     "output_type": "stream",
     "text": [
      "Rogue One\n"
     ]
    }
   ],
   "source": [
    "print(peli_1.get('Title'))"
   ]
  },
  {
   "cell_type": "code",
   "execution_count": 26,
   "metadata": {},
   "outputs": [
    {
     "name": "stdout",
     "output_type": "stream",
     "text": [
      "https://images-na.ssl-images-amazon.com/images/M/MV5BMjEwMzMxODIzOV5BMl5BanBnXkFtZTgwNzg3OTAzMDI@._V1_SX300.jpg\n"
     ]
    }
   ],
   "source": [
    "print(peli_1.get('Poster'))"
   ]
  },
  {
   "cell_type": "code",
   "execution_count": 27,
   "metadata": {},
   "outputs": [],
   "source": [
    "from IPython.display import Image"
   ]
  },
  {
   "cell_type": "code",
   "execution_count": 28,
   "metadata": {},
   "outputs": [
    {
     "data": {
      "image/jpeg": "[encoded data removed]",
      "text/plain": [
       "<IPython.core.display.Image object>"
      ]
     },
     "execution_count": 28,
     "metadata": {},
     "output_type": "execute_result"
    }
   ],
   "source": [
    "Image(peli_1.get('Poster'))"
   ]
  },
  {
   "cell_type": "code",
   "execution_count": null,
   "metadata": {},
   "outputs": [],
   "source": []
  }
 ],
 "metadata": {
  "kernelspec": {
   "display_name": "Python 3",
   "language": "python",
   "name": "python3"
  },
  "language_info": {
   "codemirror_mode": {
    "name": "ipython",
    "version": 3
   },
   "file_extension": ".py",
   "mimetype": "text/x-python",
   "name": "python",
   "nbconvert_exporter": "python",
   "pygments_lexer": "ipython3",
   "version": "3.7.4"
  }
 },
 "nbformat": 4,
 "nbformat_minor": 4
}
