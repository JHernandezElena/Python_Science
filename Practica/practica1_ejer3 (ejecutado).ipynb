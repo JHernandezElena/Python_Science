{
 "cells": [
  {
   "cell_type": "markdown",
   "metadata": {},
   "source": [
    "# PRÁCTICA 1: Python, Ejericio 3 - Julia Hernández Elena\n"
   ]
  },
  {
   "cell_type": "code",
   "execution_count": 1,
   "metadata": {},
   "outputs": [],
   "source": [
    "import pandas as pd\n",
    "import numpy as np\n",
    "from scipy import optimize"
   ]
  },
  {
   "cell_type": "markdown",
   "metadata": {},
   "source": [
    "### Leer el archivo datos_curvas_roi.csv con la información del estudio econométrico:"
   ]
  },
  {
   "cell_type": "code",
   "execution_count": 2,
   "metadata": {},
   "outputs": [],
   "source": [
    "curvas = pd.read_csv(\"datos_curvas_roi.csv\",sep=\",\",header = 0)"
   ]
  },
  {
   "cell_type": "code",
   "execution_count": 3,
   "metadata": {},
   "outputs": [
    {
     "data": {
      "text/html": [
       "<div>\n",
       "<style scoped>\n",
       "    .dataframe tbody tr th:only-of-type {\n",
       "        vertical-align: middle;\n",
       "    }\n",
       "\n",
       "    .dataframe tbody tr th {\n",
       "        vertical-align: top;\n",
       "    }\n",
       "\n",
       "    .dataframe thead th {\n",
       "        text-align: right;\n",
       "    }\n",
       "</style>\n",
       "<table border=\"1\" class=\"dataframe\">\n",
       "  <thead>\n",
       "    <tr style=\"text-align: right;\">\n",
       "      <th></th>\n",
       "      <th>MEDIO</th>\n",
       "      <th>A</th>\n",
       "      <th>B</th>\n",
       "      <th>MIN</th>\n",
       "      <th>MAX</th>\n",
       "      <th>decay</th>\n",
       "    </tr>\n",
       "  </thead>\n",
       "  <tbody>\n",
       "    <tr>\n",
       "      <td>0</td>\n",
       "      <td>Televisión</td>\n",
       "      <td>7.091115</td>\n",
       "      <td>270163.85990</td>\n",
       "      <td>183359.57680</td>\n",
       "      <td>421967.23580</td>\n",
       "      <td>0.40</td>\n",
       "    </tr>\n",
       "    <tr>\n",
       "      <td>1</td>\n",
       "      <td>Online</td>\n",
       "      <td>6.571585</td>\n",
       "      <td>62164.76381</td>\n",
       "      <td>38488.03122</td>\n",
       "      <td>110009.09710</td>\n",
       "      <td>0.20</td>\n",
       "    </tr>\n",
       "    <tr>\n",
       "      <td>2</td>\n",
       "      <td>Prensa</td>\n",
       "      <td>6.779517</td>\n",
       "      <td>105752.53950</td>\n",
       "      <td>71820.20725</td>\n",
       "      <td>165047.65840</td>\n",
       "      <td>0.20</td>\n",
       "    </tr>\n",
       "    <tr>\n",
       "      <td>3</td>\n",
       "      <td>Radio</td>\n",
       "      <td>6.182705</td>\n",
       "      <td>64579.77595</td>\n",
       "      <td>43419.72799</td>\n",
       "      <td>102131.35590</td>\n",
       "      <td>0.15</td>\n",
       "    </tr>\n",
       "    <tr>\n",
       "      <td>4</td>\n",
       "      <td>Exterior</td>\n",
       "      <td>4.168857</td>\n",
       "      <td>26693.37017</td>\n",
       "      <td>20854.44233</td>\n",
       "      <td>34971.98656</td>\n",
       "      <td>0.30</td>\n",
       "    </tr>\n",
       "  </tbody>\n",
       "</table>\n",
       "</div>"
      ],
      "text/plain": [
       "        MEDIO         A             B           MIN           MAX  decay\n",
       "0  Televisión  7.091115  270163.85990  183359.57680  421967.23580   0.40\n",
       "1      Online  6.571585   62164.76381   38488.03122  110009.09710   0.20\n",
       "2      Prensa  6.779517  105752.53950   71820.20725  165047.65840   0.20\n",
       "3       Radio  6.182705   64579.77595   43419.72799  102131.35590   0.15\n",
       "4    Exterior  4.168857   26693.37017   20854.44233   34971.98656   0.30"
      ]
     },
     "execution_count": 3,
     "metadata": {},
     "output_type": "execute_result"
    }
   ],
   "source": [
    "curvas"
   ]
  },
  {
   "cell_type": "markdown",
   "metadata": {},
   "source": [
    "### Queremos hacer un estudio para una nueva campaña de 10 semanas:"
   ]
  },
  {
   "cell_type": "markdown",
   "metadata": {},
   "source": [
    "Creamos la matriz de inversion para 10 semanas tomando los valores MIN de inversion por semana (como en el enunciado):"
   ]
  },
  {
   "cell_type": "code",
   "execution_count": 4,
   "metadata": {},
   "outputs": [],
   "source": [
    "inversion  = curvas.MIN.values #extraemos los valores"
   ]
  },
  {
   "cell_type": "code",
   "execution_count": 5,
   "metadata": {},
   "outputs": [],
   "source": [
    "inv_10semanas = np.tile(inversion,10).reshape([10,5]) #creamos una matriz con los valores repetidos 10 veces"
   ]
  },
  {
   "cell_type": "code",
   "execution_count": 6,
   "metadata": {},
   "outputs": [],
   "source": [
    "mx_inversion = pd.DataFrame(inv_10semanas, columns=curvas.MEDIO.values) #Matriz de inversion"
   ]
  },
  {
   "cell_type": "code",
   "execution_count": 7,
   "metadata": {},
   "outputs": [
    {
     "data": {
      "text/html": [
       "<div>\n",
       "<style scoped>\n",
       "    .dataframe tbody tr th:only-of-type {\n",
       "        vertical-align: middle;\n",
       "    }\n",
       "\n",
       "    .dataframe tbody tr th {\n",
       "        vertical-align: top;\n",
       "    }\n",
       "\n",
       "    .dataframe thead th {\n",
       "        text-align: right;\n",
       "    }\n",
       "</style>\n",
       "<table border=\"1\" class=\"dataframe\">\n",
       "  <thead>\n",
       "    <tr style=\"text-align: right;\">\n",
       "      <th></th>\n",
       "      <th>Televisión</th>\n",
       "      <th>Online</th>\n",
       "      <th>Prensa</th>\n",
       "      <th>Radio</th>\n",
       "      <th>Exterior</th>\n",
       "    </tr>\n",
       "  </thead>\n",
       "  <tbody>\n",
       "    <tr>\n",
       "      <td>0</td>\n",
       "      <td>183359.5768</td>\n",
       "      <td>38488.03122</td>\n",
       "      <td>71820.20725</td>\n",
       "      <td>43419.72799</td>\n",
       "      <td>20854.44233</td>\n",
       "    </tr>\n",
       "    <tr>\n",
       "      <td>1</td>\n",
       "      <td>183359.5768</td>\n",
       "      <td>38488.03122</td>\n",
       "      <td>71820.20725</td>\n",
       "      <td>43419.72799</td>\n",
       "      <td>20854.44233</td>\n",
       "    </tr>\n",
       "    <tr>\n",
       "      <td>2</td>\n",
       "      <td>183359.5768</td>\n",
       "      <td>38488.03122</td>\n",
       "      <td>71820.20725</td>\n",
       "      <td>43419.72799</td>\n",
       "      <td>20854.44233</td>\n",
       "    </tr>\n",
       "    <tr>\n",
       "      <td>3</td>\n",
       "      <td>183359.5768</td>\n",
       "      <td>38488.03122</td>\n",
       "      <td>71820.20725</td>\n",
       "      <td>43419.72799</td>\n",
       "      <td>20854.44233</td>\n",
       "    </tr>\n",
       "    <tr>\n",
       "      <td>4</td>\n",
       "      <td>183359.5768</td>\n",
       "      <td>38488.03122</td>\n",
       "      <td>71820.20725</td>\n",
       "      <td>43419.72799</td>\n",
       "      <td>20854.44233</td>\n",
       "    </tr>\n",
       "    <tr>\n",
       "      <td>5</td>\n",
       "      <td>183359.5768</td>\n",
       "      <td>38488.03122</td>\n",
       "      <td>71820.20725</td>\n",
       "      <td>43419.72799</td>\n",
       "      <td>20854.44233</td>\n",
       "    </tr>\n",
       "    <tr>\n",
       "      <td>6</td>\n",
       "      <td>183359.5768</td>\n",
       "      <td>38488.03122</td>\n",
       "      <td>71820.20725</td>\n",
       "      <td>43419.72799</td>\n",
       "      <td>20854.44233</td>\n",
       "    </tr>\n",
       "    <tr>\n",
       "      <td>7</td>\n",
       "      <td>183359.5768</td>\n",
       "      <td>38488.03122</td>\n",
       "      <td>71820.20725</td>\n",
       "      <td>43419.72799</td>\n",
       "      <td>20854.44233</td>\n",
       "    </tr>\n",
       "    <tr>\n",
       "      <td>8</td>\n",
       "      <td>183359.5768</td>\n",
       "      <td>38488.03122</td>\n",
       "      <td>71820.20725</td>\n",
       "      <td>43419.72799</td>\n",
       "      <td>20854.44233</td>\n",
       "    </tr>\n",
       "    <tr>\n",
       "      <td>9</td>\n",
       "      <td>183359.5768</td>\n",
       "      <td>38488.03122</td>\n",
       "      <td>71820.20725</td>\n",
       "      <td>43419.72799</td>\n",
       "      <td>20854.44233</td>\n",
       "    </tr>\n",
       "  </tbody>\n",
       "</table>\n",
       "</div>"
      ],
      "text/plain": [
       "    Televisión       Online       Prensa        Radio     Exterior\n",
       "0  183359.5768  38488.03122  71820.20725  43419.72799  20854.44233\n",
       "1  183359.5768  38488.03122  71820.20725  43419.72799  20854.44233\n",
       "2  183359.5768  38488.03122  71820.20725  43419.72799  20854.44233\n",
       "3  183359.5768  38488.03122  71820.20725  43419.72799  20854.44233\n",
       "4  183359.5768  38488.03122  71820.20725  43419.72799  20854.44233\n",
       "5  183359.5768  38488.03122  71820.20725  43419.72799  20854.44233\n",
       "6  183359.5768  38488.03122  71820.20725  43419.72799  20854.44233\n",
       "7  183359.5768  38488.03122  71820.20725  43419.72799  20854.44233\n",
       "8  183359.5768  38488.03122  71820.20725  43419.72799  20854.44233\n",
       "9  183359.5768  38488.03122  71820.20725  43419.72799  20854.44233"
      ]
     },
     "execution_count": 7,
     "metadata": {},
     "output_type": "execute_result"
    }
   ],
   "source": [
    "mx_inversion"
   ]
  },
  {
   "cell_type": "markdown",
   "metadata": {},
   "source": [
    "Aplicando el efecto adstock con sus respectivos decaimientos a esta matriz conseguimos:"
   ]
  },
  {
   "cell_type": "code",
   "execution_count": 8,
   "metadata": {},
   "outputs": [],
   "source": [
    "for i in range (1, len(mx_inversion)):\n",
    "    mx_inversion[i:i+1] = mx_inversion[i-1:i].to_numpy()*curvas.decay.values +  mx_inversion[0:1].to_numpy()"
   ]
  },
  {
   "cell_type": "code",
   "execution_count": 9,
   "metadata": {},
   "outputs": [
    {
     "data": {
      "text/html": [
       "<div>\n",
       "<style scoped>\n",
       "    .dataframe tbody tr th:only-of-type {\n",
       "        vertical-align: middle;\n",
       "    }\n",
       "\n",
       "    .dataframe tbody tr th {\n",
       "        vertical-align: top;\n",
       "    }\n",
       "\n",
       "    .dataframe thead th {\n",
       "        text-align: right;\n",
       "    }\n",
       "</style>\n",
       "<table border=\"1\" class=\"dataframe\">\n",
       "  <thead>\n",
       "    <tr style=\"text-align: right;\">\n",
       "      <th></th>\n",
       "      <th>Televisión</th>\n",
       "      <th>Online</th>\n",
       "      <th>Prensa</th>\n",
       "      <th>Radio</th>\n",
       "      <th>Exterior</th>\n",
       "    </tr>\n",
       "  </thead>\n",
       "  <tbody>\n",
       "    <tr>\n",
       "      <td>0</td>\n",
       "      <td>183359.576800</td>\n",
       "      <td>38488.031220</td>\n",
       "      <td>71820.207250</td>\n",
       "      <td>43419.727990</td>\n",
       "      <td>20854.442330</td>\n",
       "    </tr>\n",
       "    <tr>\n",
       "      <td>1</td>\n",
       "      <td>256703.407520</td>\n",
       "      <td>46185.637464</td>\n",
       "      <td>86184.248700</td>\n",
       "      <td>49932.687189</td>\n",
       "      <td>27110.775029</td>\n",
       "    </tr>\n",
       "    <tr>\n",
       "      <td>2</td>\n",
       "      <td>286040.939808</td>\n",
       "      <td>47725.158713</td>\n",
       "      <td>89057.056990</td>\n",
       "      <td>50909.631068</td>\n",
       "      <td>28987.674839</td>\n",
       "    </tr>\n",
       "    <tr>\n",
       "      <td>3</td>\n",
       "      <td>297775.952723</td>\n",
       "      <td>48033.062963</td>\n",
       "      <td>89631.618648</td>\n",
       "      <td>51056.172650</td>\n",
       "      <td>29550.744782</td>\n",
       "    </tr>\n",
       "    <tr>\n",
       "      <td>4</td>\n",
       "      <td>302469.957889</td>\n",
       "      <td>48094.643813</td>\n",
       "      <td>89746.530980</td>\n",
       "      <td>51078.153888</td>\n",
       "      <td>29719.665764</td>\n",
       "    </tr>\n",
       "    <tr>\n",
       "      <td>5</td>\n",
       "      <td>304347.559956</td>\n",
       "      <td>48106.959983</td>\n",
       "      <td>89769.513446</td>\n",
       "      <td>51081.451073</td>\n",
       "      <td>29770.342059</td>\n",
       "    </tr>\n",
       "    <tr>\n",
       "      <td>6</td>\n",
       "      <td>305098.600782</td>\n",
       "      <td>48109.423217</td>\n",
       "      <td>89774.109939</td>\n",
       "      <td>51081.945651</td>\n",
       "      <td>29785.544948</td>\n",
       "    </tr>\n",
       "    <tr>\n",
       "      <td>7</td>\n",
       "      <td>305399.017113</td>\n",
       "      <td>48109.915863</td>\n",
       "      <td>89775.029238</td>\n",
       "      <td>51082.019838</td>\n",
       "      <td>29790.105814</td>\n",
       "    </tr>\n",
       "    <tr>\n",
       "      <td>8</td>\n",
       "      <td>305519.183645</td>\n",
       "      <td>48110.014393</td>\n",
       "      <td>89775.213098</td>\n",
       "      <td>51082.030966</td>\n",
       "      <td>29791.474074</td>\n",
       "    </tr>\n",
       "    <tr>\n",
       "      <td>9</td>\n",
       "      <td>305567.250258</td>\n",
       "      <td>48110.034099</td>\n",
       "      <td>89775.249870</td>\n",
       "      <td>51082.032635</td>\n",
       "      <td>29791.884552</td>\n",
       "    </tr>\n",
       "  </tbody>\n",
       "</table>\n",
       "</div>"
      ],
      "text/plain": [
       "      Televisión        Online        Prensa         Radio      Exterior\n",
       "0  183359.576800  38488.031220  71820.207250  43419.727990  20854.442330\n",
       "1  256703.407520  46185.637464  86184.248700  49932.687189  27110.775029\n",
       "2  286040.939808  47725.158713  89057.056990  50909.631068  28987.674839\n",
       "3  297775.952723  48033.062963  89631.618648  51056.172650  29550.744782\n",
       "4  302469.957889  48094.643813  89746.530980  51078.153888  29719.665764\n",
       "5  304347.559956  48106.959983  89769.513446  51081.451073  29770.342059\n",
       "6  305098.600782  48109.423217  89774.109939  51081.945651  29785.544948\n",
       "7  305399.017113  48109.915863  89775.029238  51082.019838  29790.105814\n",
       "8  305519.183645  48110.014393  89775.213098  51082.030966  29791.474074\n",
       "9  305567.250258  48110.034099  89775.249870  51082.032635  29791.884552"
      ]
     },
     "execution_count": 9,
     "metadata": {},
     "output_type": "execute_result"
    }
   ],
   "source": [
    "mx_inversion"
   ]
  },
  {
   "cell_type": "markdown",
   "metadata": {},
   "source": [
    "- #### Crear una función aportes_totales(x) que tenga como argumento de entrada un vector de numpy con la inversión de todos los medios en las 10 semanas y que devuelva el aporte total de toda la inversión usando el efecto adstock y las curvas de aporte:"
   ]
  },
  {
   "cell_type": "code",
   "execution_count": 10,
   "metadata": {},
   "outputs": [],
   "source": [
    "def aportes_totales(x): #x será en vector numpy con los valores de la primera tabla (la matiz de inversión)\n",
    "    \n",
    "    #Calculamos el efecto adstock con sus decaimientos para el vector de entrada:\n",
    "    for i in range (1, len(x)):\n",
    "        x[i] = x[i-1]*curvas.decay.values + x[0]\n",
    "    \n",
    "    #Creamos la lista f(x) que tendra los valores de aporte para todos los medios cada semana:\n",
    "    f_x=[]\n",
    "    for values in x:\n",
    "        exponente = curvas.A.values - (curvas.B.values)/values \n",
    "        f_x.append(np.exp(exponente).sum())\n",
    "    \n",
    "    #Sumamos los valores de aporte de cada semana para conseguir los aportes totales:\n",
    "    return sum(f_x)"
   ]
  },
  {
   "cell_type": "markdown",
   "metadata": {},
   "source": [
    "Probamos la función con un vector numpy con la inversion de todos los medios para cuatro semanas como el enunciado para comprobar que nuestra función funciona: "
   ]
  },
  {
   "cell_type": "code",
   "execution_count": 11,
   "metadata": {},
   "outputs": [],
   "source": [
    "inversion  = curvas.MIN.values #extraemos los valores\n",
    "inv_4semanas = np.tile(inversion,4).reshape([4,5]) #creamos una matriz con los valores repetidos 4 veces\n",
    "mx_inv_4s = pd.DataFrame(inv_4semanas, columns=curvas.MEDIO.values) #Matriz de inversion de 4 semanas"
   ]
  },
  {
   "cell_type": "code",
   "execution_count": 12,
   "metadata": {},
   "outputs": [
    {
     "data": {
      "text/plain": [
       "3972.2482708606044"
      ]
     },
     "execution_count": 12,
     "metadata": {},
     "output_type": "execute_result"
    }
   ],
   "source": [
    "aportes_totales(mx_inv_4s.to_numpy())"
   ]
  },
  {
   "cell_type": "markdown",
   "metadata": {},
   "source": [
    "La función calcula el aporte total correctamente."
   ]
  },
  {
   "cell_type": "markdown",
   "metadata": {},
   "source": [
    "#### Calculamos el aporte total para 10 semanas:"
   ]
  },
  {
   "cell_type": "code",
   "execution_count": 13,
   "metadata": {},
   "outputs": [],
   "source": [
    "inversion  = curvas.MIN.values #extraemos los valores\n",
    "inv_10semanas = np.tile(inversion,10).reshape([10,5]) #creamos una matriz con los valores repetidos 10 veces\n",
    "mx_inv_10s = pd.DataFrame(inv_10semanas, columns=curvas.MEDIO.values) #Matriz de inversion de 10 semanas"
   ]
  },
  {
   "cell_type": "code",
   "execution_count": 14,
   "metadata": {},
   "outputs": [
    {
     "data": {
      "text/plain": [
       "10723.620391631035"
      ]
     },
     "execution_count": 14,
     "metadata": {},
     "output_type": "execute_result"
    }
   ],
   "source": [
    "aportes_totales(mx_inv_10s.to_numpy())"
   ]
  },
  {
   "cell_type": "code",
   "execution_count": null,
   "metadata": {},
   "outputs": [],
   "source": []
  }
 ],
 "metadata": {
  "kernelspec": {
   "display_name": "Python 3",
   "language": "python",
   "name": "python3"
  },
  "language_info": {
   "codemirror_mode": {
    "name": "ipython",
    "version": 3
   },
   "file_extension": ".py",
   "mimetype": "text/x-python",
   "name": "python",
   "nbconvert_exporter": "python",
   "pygments_lexer": "ipython3",
   "version": "3.7.4"
  }
 },
 "nbformat": 4,
 "nbformat_minor": 2
}
