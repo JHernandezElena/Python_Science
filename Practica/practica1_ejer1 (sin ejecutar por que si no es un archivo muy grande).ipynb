{
 "cells": [
  {
   "cell_type": "markdown",
   "metadata": {},
   "source": [
    "# PRÁCTICA 1: Python, Ejericio 1 - Julia Hernández Elena"
   ]
  },
  {
   "cell_type": "markdown",
   "metadata": {},
   "source": [
    "Usando la librería PIL vamos a proceder a leer una imagen en blanco y negro en formato png"
   ]
  },
  {
   "cell_type": "code",
   "execution_count": null,
   "metadata": {},
   "outputs": [],
   "source": [
    "from PIL import Image\n",
    "import numpy as np"
   ]
  },
  {
   "cell_type": "code",
   "execution_count": null,
   "metadata": {},
   "outputs": [],
   "source": [
    "greco = Image.open('greco.png')"
   ]
  },
  {
   "cell_type": "code",
   "execution_count": null,
   "metadata": {},
   "outputs": [],
   "source": [
    "type(greco)"
   ]
  },
  {
   "cell_type": "markdown",
   "metadata": {},
   "source": [
    "Creamos una variable size_show con un tamaño más apropiado para pintar en el notebook y pintamos:"
   ]
  },
  {
   "cell_type": "code",
   "execution_count": null,
   "metadata": {},
   "outputs": [],
   "source": [
    "size_show = tuple((np.array(greco.size) * .5).astype(int))"
   ]
  },
  {
   "cell_type": "code",
   "execution_count": null,
   "metadata": {},
   "outputs": [],
   "source": [
    "greco.resize(size_show) #hago clear output para que el tamaño del archivo no sea demasiado grande y pueda subirlo al moodle"
   ]
  },
  {
   "cell_type": "markdown",
   "metadata": {},
   "source": [
    "### - Crear una variable greco_array de tipo numpy.ndarray con la información de la imagen:"
   ]
  },
  {
   "cell_type": "code",
   "execution_count": null,
   "metadata": {},
   "outputs": [],
   "source": [
    "import numpy as np"
   ]
  },
  {
   "cell_type": "code",
   "execution_count": null,
   "metadata": {},
   "outputs": [],
   "source": [
    "greco_array = np.array(greco)\n",
    "type(greco_array)  "
   ]
  },
  {
   "cell_type": "markdown",
   "metadata": {},
   "source": [
    "### - ¿Qué dimensiones (shape) tiene dicho array?:"
   ]
  },
  {
   "cell_type": "code",
   "execution_count": null,
   "metadata": {},
   "outputs": [],
   "source": [
    "greco_array.shape"
   ]
  },
  {
   "cell_type": "code",
   "execution_count": null,
   "metadata": {},
   "outputs": [],
   "source": [
    "greco_array.dtype"
   ]
  },
  {
   "cell_type": "markdown",
   "metadata": {},
   "source": [
    "### - Usar la función np.linalg.svd para realizar la descomposición  SVD  de dicha matriz:"
   ]
  },
  {
   "cell_type": "code",
   "execution_count": null,
   "metadata": {},
   "outputs": [],
   "source": [
    "s, v, d = np.linalg.svd(greco_array, full_matrices=True)"
   ]
  },
  {
   "cell_type": "markdown",
   "metadata": {},
   "source": [
    "### - ¿Qué dimensiones tienen las nuevas matrices?:"
   ]
  },
  {
   "cell_type": "code",
   "execution_count": null,
   "metadata": {},
   "outputs": [],
   "source": [
    "s.shape"
   ]
  },
  {
   "cell_type": "code",
   "execution_count": null,
   "metadata": {},
   "outputs": [],
   "source": [
    "v.shape #Array de valores sigulares"
   ]
  },
  {
   "cell_type": "code",
   "execution_count": null,
   "metadata": {},
   "outputs": [],
   "source": [
    "d.shape"
   ]
  },
  {
   "cell_type": "markdown",
   "metadata": {},
   "source": [
    "### - Crear una nueva variable greco_array_hat con el resultado de recomponer la matriz usando las matrices resultantes de la descomposición  SVD:"
   ]
  },
  {
   "cell_type": "markdown",
   "metadata": {},
   "source": [
    "Usando la documentacion de np.linalg.svd calculamos la recomposicion de la matriz"
   ]
  },
  {
   "cell_type": "code",
   "execution_count": null,
   "metadata": {},
   "outputs": [],
   "source": [
    "greco_array_hat = np.matmul(s[..., :660]*v, d) \n",
    "    #ponemos s hasta 660 porque son los valores que tiene V (valores singulares)"
   ]
  },
  {
   "cell_type": "code",
   "execution_count": null,
   "metadata": {},
   "outputs": [],
   "source": [
    "#Returns True if two arrays are element-wise equal within a tolerance:\n",
    "np.allclose(greco_array, np.matmul(s[..., :660] * v, d))"
   ]
  },
  {
   "cell_type": "code",
   "execution_count": null,
   "metadata": {},
   "outputs": [],
   "source": [
    "greco_array_hat"
   ]
  },
  {
   "cell_type": "code",
   "execution_count": null,
   "metadata": {},
   "outputs": [],
   "source": [
    "greco #hago clear output para que el tamaño del archivo no sea demasiado grande y pueda subirlo al moodle"
   ]
  },
  {
   "cell_type": "markdown",
   "metadata": {},
   "source": [
    "### - Calcular el error cuadrático medio entre la matriz original y la matriz resultante:\n",
    "Usando la formula matemática del mse:"
   ]
  },
  {
   "cell_type": "code",
   "execution_count": null,
   "metadata": {},
   "outputs": [],
   "source": [
    "mse = ((greco_array - greco_array_hat)**2).mean(axis=None)"
   ]
  },
  {
   "cell_type": "code",
   "execution_count": null,
   "metadata": {},
   "outputs": [],
   "source": [
    "mse"
   ]
  },
  {
   "cell_type": "markdown",
   "metadata": {},
   "source": [
    "Usando una formula de la libreria sklearn:"
   ]
  },
  {
   "cell_type": "code",
   "execution_count": null,
   "metadata": {},
   "outputs": [],
   "source": [
    "from sklearn.metrics import mean_squared_error\n",
    "mse = mean_squared_error(greco_array, greco_array_hat)"
   ]
  },
  {
   "cell_type": "code",
   "execution_count": null,
   "metadata": {},
   "outputs": [],
   "source": [
    "mse"
   ]
  },
  {
   "cell_type": "markdown",
   "metadata": {},
   "source": [
    "### - Convertir la nueva matriz greco_array_hat en un objeto de tipo imagen y pintar:"
   ]
  },
  {
   "cell_type": "code",
   "execution_count": null,
   "metadata": {},
   "outputs": [],
   "source": [
    "img = Image.fromarray(greco_array_hat)"
   ]
  },
  {
   "cell_type": "code",
   "execution_count": null,
   "metadata": {},
   "outputs": [],
   "source": [
    "type(img)"
   ]
  },
  {
   "cell_type": "code",
   "execution_count": null,
   "metadata": {},
   "outputs": [],
   "source": [
    "from matplotlib import pyplot as plt\n",
    "plt.imshow(img)\n",
    "plt.show()"
   ]
  },
  {
   "cell_type": "markdown",
   "metadata": {},
   "source": [
    "### - Con la descomposición  *SVD*  conseguimos la matriz diagonal  *V*  que es el vector de valores singulares. Supongamos que la matriz original tiene tamaño  *(n,m)* este vector tiene dimensión  *m*.\n",
    "\n",
    "### Se pide crear una función `reconstruir(k)` que dado un valor  *k∈[1,m]*  nos devuelva la imagen aproximada generada por la matriz `greco_array` pero usando solo los primeros  *k*  valores singulares. "
   ]
  },
  {
   "cell_type": "code",
   "execution_count": null,
   "metadata": {},
   "outputs": [],
   "source": [
    "def reconstruir(k):\n",
    "    #Cargamos la imagen y la descomponemos en S, V y D\n",
    "    greco = Image.open('greco.png')\n",
    "    greco_array = np.array(greco)\n",
    "    s, v, d = np.linalg.svd(greco_array, full_matrices=True)\n",
    "    \n",
    "    #Usar solo k valores singulares. S(nxk), V(kx1), D(kxm)\n",
    "    reduced = np.matmul(s[..., :k] * v[..., None, :k], d[ :k, :])\n",
    "    \n",
    "    #Pintamos la imagen\n",
    "    img = Image.fromarray(reduced)\n",
    "    return img\n",
    "    #Si quisieramos devolver el plot de la imagen añadiríamos:\n",
    "        #plt.imshow(img)\n",
    "        #return plt.show()"
   ]
  },
  {
   "cell_type": "code",
   "execution_count": null,
   "metadata": {},
   "outputs": [],
   "source": [
    "greco_array_hat = reconstruir(6)\n",
    "plt.imshow(greco_array_hat)\n",
    "plt.show()\n",
    "#hago clear output para que el tamaño del archivo no sea demasiado grande y pueda subirlo al moodle"
   ]
  },
  {
   "cell_type": "code",
   "execution_count": null,
   "metadata": {},
   "outputs": [],
   "source": [
    "images = [reconstruir(k) for k in range(1,660, 5)]    "
   ]
  },
  {
   "cell_type": "code",
   "execution_count": null,
   "metadata": {},
   "outputs": [],
   "source": [
    "images[0].save('greco.gif', format = 'GIF', append_images=images[1:], save_all=True, duration=300,loop=0)"
   ]
  },
  {
   "cell_type": "code",
   "execution_count": null,
   "metadata": {},
   "outputs": [],
   "source": [
    "from IPython.display import Image\n",
    "with open ('greco.gif', 'rb') as file:\n",
    "    display(Image(file.read()))\n",
    "#hago clear output para que el tamaño del archivo no sea demasiado grande y pueda subirlo al moodle"
   ]
  }
 ],
 "metadata": {
  "kernelspec": {
   "display_name": "Python 3",
   "language": "python",
   "name": "python3"
  },
  "language_info": {
   "codemirror_mode": {
    "name": "ipython",
    "version": 3
   },
   "file_extension": ".py",
   "mimetype": "text/x-python",
   "name": "python",
   "nbconvert_exporter": "python",
   "pygments_lexer": "ipython3",
   "version": "3.7.4"
  }
 },
 "nbformat": 4,
 "nbformat_minor": 2
}
